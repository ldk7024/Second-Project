{
 "cells": [
  {
   "cell_type": "code",
   "execution_count": 1,
   "metadata": {
    "ExecuteTime": {
     "end_time": "2021-06-25T00:34:05.414572Z",
     "start_time": "2021-06-25T00:34:04.998403Z"
    }
   },
   "outputs": [],
   "source": [
    "import pandas as pd\n",
    "import numpy as np\n",
    "import requests as req\n",
    "from bs4 import BeautifulSoup as bs"
   ]
  },
  {
   "cell_type": "code",
   "execution_count": 2,
   "metadata": {
    "ExecuteTime": {
     "end_time": "2021-06-25T00:34:05.476617Z",
     "start_time": "2021-06-25T00:34:05.420598Z"
    }
   },
   "outputs": [],
   "source": [
    "from selenium import webdriver as wb\n",
    "from selenium.webdriver.common.keys import Keys\n",
    "import time"
   ]
  },
  {
   "cell_type": "code",
   "execution_count": 3,
   "metadata": {
    "ExecuteTime": {
     "end_time": "2021-06-25T00:34:05.492531Z",
     "start_time": "2021-06-25T00:34:05.477606Z"
    }
   },
   "outputs": [],
   "source": [
    "childrendata = pd.read_csv('data/gwangju_children_2021.csv', encoding='cp949')\n",
    "youthdata = pd.read_csv('data/gwangju_youth_2021.csv', encoding='cp949')\n",
    "twentydata = pd.read_csv('data/gwangju_2030_2021.csv', encoding='cp949')\n",
    "morefourtydata = pd.read_csv('data/gwangju_more40_2021.csv', encoding='cp949')"
   ]
  },
  {
   "cell_type": "code",
   "execution_count": 4,
   "metadata": {
    "ExecuteTime": {
     "end_time": "2021-06-25T00:34:05.507552Z",
     "start_time": "2021-06-25T00:34:05.493529Z"
    }
   },
   "outputs": [],
   "source": [
    "childrendata = childrendata.loc[:40,:]"
   ]
  },
  {
   "cell_type": "code",
   "execution_count": 5,
   "metadata": {
    "ExecuteTime": {
     "end_time": "2021-06-25T00:34:05.523508Z",
     "start_time": "2021-06-25T00:34:05.508556Z"
    }
   },
   "outputs": [],
   "source": [
    "youthdata = youthdata.loc[:40,:]\n",
    "twentydata = twentydata.loc[:40,:]\n",
    "morefourtydata = morefourtydata.loc[:40,:]"
   ]
  },
  {
   "cell_type": "code",
   "execution_count": 6,
   "metadata": {
    "ExecuteTime": {
     "end_time": "2021-06-25T00:34:05.538471Z",
     "start_time": "2021-06-25T00:34:05.524506Z"
    }
   },
   "outputs": [],
   "source": [
    "childrendata['ISBN']=childrendata['ISBN'].astype(str)\n",
    "youthdata['ISBN']=youthdata['ISBN'].astype(str)\n",
    "twentydata['ISBN']=twentydata['ISBN'].astype(str)\n",
    "morefourtydata['ISBN']=morefourtydata['ISBN'].astype(str)"
   ]
  },
  {
   "cell_type": "code",
   "execution_count": 7,
   "metadata": {
    "ExecuteTime": {
     "end_time": "2021-06-25T00:34:05.553820Z",
     "start_time": "2021-06-25T00:34:05.539440Z"
    }
   },
   "outputs": [],
   "source": [
    "cISBNlist = []\n",
    "yISBNlist = []\n",
    "tISBNlist = []\n",
    "fISBNlist = []"
   ]
  },
  {
   "cell_type": "code",
   "execution_count": 8,
   "metadata": {
    "ExecuteTime": {
     "end_time": "2021-06-25T00:34:05.569670Z",
     "start_time": "2021-06-25T00:34:05.555818Z"
    }
   },
   "outputs": [],
   "source": [
    "for i in range(40):\n",
    "    cISBNlist.append(childrendata['ISBN'][i])\n",
    "    yISBNlist.append(youthdata['ISBN'][i])\n",
    "    tISBNlist.append(twentydata['ISBN'][i])\n",
    "    fISBNlist.append(morefourtydata['ISBN'][i])"
   ]
  },
  {
   "cell_type": "code",
   "execution_count": 9,
   "metadata": {
    "ExecuteTime": {
     "end_time": "2021-06-25T00:34:05.647793Z",
     "start_time": "2021-06-25T00:34:05.570670Z"
    }
   },
   "outputs": [],
   "source": [
    "url = 'http://www.yes24.com/'\n",
    "\n",
    "header = {\n",
    "    'user-agent' : 'Mozilla/5.0 (Windows NT 10.0; Win64; x64) AppleWebKit/537.36 (KHTML, like Gecko) Chrome/87.0.4280.141 Safari/537.36'\n",
    "}\n",
    "\n",
    "res = req.get(url, headers=header)\n",
    "soup = bs(res.text, 'lxml')"
   ]
  },
  {
   "cell_type": "code",
   "execution_count": 10,
   "metadata": {
    "ExecuteTime": {
     "end_time": "2021-06-25T00:34:05.663752Z",
     "start_time": "2021-06-25T00:34:05.648794Z"
    }
   },
   "outputs": [
    {
     "data": {
      "text/plain": [
       "['9791165341909',\n",
       " '9791188331796',\n",
       " '9788965746829',\n",
       " '9791187481720',\n",
       " '9788970129815',\n",
       " '9788936434267',\n",
       " '9788972756194',\n",
       " '9791190991070',\n",
       " '9788970129822',\n",
       " '9791165075064',\n",
       " '9788901243665',\n",
       " '9788901246086',\n",
       " '9788965746836',\n",
       " '9788965746843',\n",
       " '9791158511906',\n",
       " '9788954654753',\n",
       " '9791196831080',\n",
       " '9791130604626',\n",
       " '9791191071030',\n",
       " '9788984374164',\n",
       " '9791190382175',\n",
       " '9788936434120',\n",
       " '9791190090018',\n",
       " '9788934992493',\n",
       " '9791189982140',\n",
       " '9788934972464',\n",
       " '9788998274931',\n",
       " '9791187119845',\n",
       " '9791190242516',\n",
       " '9791190931151',\n",
       " '9788936477936',\n",
       " '9788937473098',\n",
       " '9788998274412',\n",
       " '9791190908634',\n",
       " '9788901243658',\n",
       " '9788925591711',\n",
       " '9791191119305',\n",
       " '9791196316808',\n",
       " '9788965746669',\n",
       " '9791190090261']"
      ]
     },
     "execution_count": 10,
     "metadata": {},
     "output_type": "execute_result"
    }
   ],
   "source": [
    "cISBNlist\n",
    "yISBNlist\n",
    "tISBNlist\n",
    "fISBNlist"
   ]
  },
  {
   "cell_type": "code",
   "execution_count": 11,
   "metadata": {
    "ExecuteTime": {
     "end_time": "2021-06-25T00:34:05.679710Z",
     "start_time": "2021-06-25T00:34:05.664751Z"
    }
   },
   "outputs": [],
   "source": [
    "bookdic_jan = {'ISBN':[], 'bookName':[], 'authorName':[], 'publisher':[], \n",
    "           'starCnt':[], 'month':[],'rank':[], 'loanCnt':[]}\n",
    "bookdic_feb = {'ISBN':[], 'bookName':[], 'authorName':[], 'publisher':[], \n",
    "           'starCnt':[], 'month':[],'rank':[], 'loanCnt':[]}\n",
    "bookdic_mar = {'ISBN':[], 'bookName':[], 'authorName':[], 'publisher':[], \n",
    "           'starCnt':[], 'month':[],'rank':[], 'loanCnt':[]}\n",
    "bookdic_apr = {'ISBN':[], 'bookName':[], 'authorName':[], 'publisher':[], \n",
    "           'starCnt':[], 'month':[],'rank':[], 'loanCnt':[]}\n",
    "bookdic_may = {'ISBN':[], 'bookName':[], 'authorName':[], 'publisher':[], \n",
    "           'starCnt':[], 'month':[],'rank':[], 'loanCnt':[]}"
   ]
  },
  {
   "cell_type": "code",
   "execution_count": 12,
   "metadata": {
    "ExecuteTime": {
     "end_time": "2021-06-25T00:34:05.695667Z",
     "start_time": "2021-06-25T00:34:05.680708Z"
    }
   },
   "outputs": [],
   "source": [
    "dic_data_jan = {'ISBN':[],'loanCnt':[],'rank':[],'month':[]}\n",
    "dic_data_feb = {'ISBN':[],'loanCnt':[],'rank':[],'month':[]}\n",
    "dic_data_mar = {'ISBN':[],'loanCnt':[],'rank':[],'month':[]}\n",
    "dic_data_apr = {'ISBN':[],'loanCnt':[],'rank':[],'month':[]}\n",
    "dic_data_may = {'ISBN':[],'loanCnt':[],'rank':[],'month':[]}"
   ]
  },
  {
   "cell_type": "code",
   "execution_count": 13,
   "metadata": {
    "ExecuteTime": {
     "end_time": "2021-06-25T00:34:05.726186Z",
     "start_time": "2021-06-25T00:34:05.696946Z"
    }
   },
   "outputs": [],
   "source": [
    "gwangju_jan_2030 = pd.read_csv('data/gwangju_jan_2030.csv', encoding='cp949')"
   ]
  },
  {
   "cell_type": "code",
   "execution_count": 14,
   "metadata": {
    "ExecuteTime": {
     "end_time": "2021-06-25T00:34:05.742108Z",
     "start_time": "2021-06-25T00:34:05.731180Z"
    }
   },
   "outputs": [],
   "source": [
    "gwangju_jan_2030['month'] = 'jan'"
   ]
  },
  {
   "cell_type": "code",
   "execution_count": 15,
   "metadata": {
    "ExecuteTime": {
     "end_time": "2021-06-25T00:34:05.757772Z",
     "start_time": "2021-06-25T00:34:05.743105Z"
    }
   },
   "outputs": [],
   "source": [
    "gwangju_jan_2030['ISBN']=gwangju_jan_2030['ISBN'].astype(str)"
   ]
  },
  {
   "cell_type": "code",
   "execution_count": 16,
   "metadata": {
    "ExecuteTime": {
     "end_time": "2021-06-25T00:34:05.804321Z",
     "start_time": "2021-06-25T00:34:05.758739Z"
    }
   },
   "outputs": [],
   "source": [
    "gwangju_feb_2030 = pd.read_csv('data/gwangju_feb_2030.csv', encoding='cp949')\n",
    "gwangju_mar_2030 = pd.read_csv('data/gwangju_mar_2030.csv', encoding='cp949')\n",
    "gwangju_apr_2030 = pd.read_csv('data/gwangju_apr_2030.csv', encoding='cp949')\n",
    "gwangju_may_2030 = pd.read_csv('data/gwangju_may_2030.csv', encoding='cp949')"
   ]
  },
  {
   "cell_type": "code",
   "execution_count": 17,
   "metadata": {
    "ExecuteTime": {
     "end_time": "2021-06-25T00:34:05.819565Z",
     "start_time": "2021-06-25T00:34:05.805321Z"
    }
   },
   "outputs": [],
   "source": [
    "gwangju_feb_2030['ISBN']=gwangju_feb_2030['ISBN'].astype(str)\n",
    "gwangju_mar_2030['ISBN']=gwangju_mar_2030['ISBN'].astype(str)\n",
    "gwangju_apr_2030['ISBN']=gwangju_apr_2030['ISBN'].astype(str)\n",
    "gwangju_may_2030['ISBN']=gwangju_may_2030['ISBN'].astype(str)"
   ]
  },
  {
   "cell_type": "code",
   "execution_count": 18,
   "metadata": {
    "ExecuteTime": {
     "end_time": "2021-06-25T00:34:05.835637Z",
     "start_time": "2021-06-25T00:34:05.820518Z"
    }
   },
   "outputs": [],
   "source": [
    "gwangju_feb_2030['month'] = 'feb'\n",
    "gwangju_mar_2030['month'] = 'mar'\n",
    "gwangju_apr_2030['month'] = 'apr'\n",
    "gwangju_may_2030['month'] = 'may'"
   ]
  },
  {
   "cell_type": "code",
   "execution_count": 19,
   "metadata": {
    "ExecuteTime": {
     "end_time": "2021-06-25T00:34:05.851141Z",
     "start_time": "2021-06-25T00:34:05.836002Z"
    }
   },
   "outputs": [],
   "source": [
    "def findBestloan_jan(df):\n",
    "    for i in range(len(df)):\n",
    "        dic_data_jan['ISBN'].append(df['ISBN'][i])\n",
    "        dic_data_jan['loanCnt'].append(df['대출건수'][i])\n",
    "        dic_data_jan['rank'].append(df['순위'][i])\n",
    "        dic_data_jan['month'].append(df['month'][i])\n",
    "    for j in range(len(dic_data_jan['ISBN'])):\n",
    "        for k in range(len(cISBNlist)):\n",
    "            if dic_data_jan['ISBN'][j] == tISBNlist[k]:\n",
    "                bookdic_jan['ISBN'].append(dic_data_jan['ISBN'][j])\n",
    "                bookdic_jan['loanCnt'].append(dic_data_jan['loanCnt'][j])\n",
    "                bookdic_jan['rank'].append(dic_data_jan['rank'][j])\n",
    "                bookdic_jan['month'].append(dic_data_jan['month'][j])"
   ]
  },
  {
   "cell_type": "code",
   "execution_count": 20,
   "metadata": {
    "ExecuteTime": {
     "end_time": "2021-06-25T00:34:05.866206Z",
     "start_time": "2021-06-25T00:34:05.852140Z"
    }
   },
   "outputs": [],
   "source": [
    "def findBestloan_feb(df):\n",
    "    for i in range(len(df)):\n",
    "        dic_data_feb['ISBN'].append(df['ISBN'][i])\n",
    "        dic_data_feb['loanCnt'].append(df['대출건수'][i])\n",
    "        dic_data_feb['rank'].append(df['순위'][i])\n",
    "        dic_data_feb['month'].append(df['month'][i])\n",
    "    for j in range(len(dic_data_feb['ISBN'])):\n",
    "        for k in range(len(cISBNlist)):\n",
    "            if dic_data_feb['ISBN'][j] == tISBNlist[k]:\n",
    "                bookdic_feb['ISBN'].append(dic_data_feb['ISBN'][j])\n",
    "                bookdic_feb['loanCnt'].append(dic_data_feb['loanCnt'][j])\n",
    "                bookdic_feb['rank'].append(dic_data_feb['rank'][j])\n",
    "                bookdic_feb['month'].append(dic_data_feb['month'][j])"
   ]
  },
  {
   "cell_type": "code",
   "execution_count": 21,
   "metadata": {
    "ExecuteTime": {
     "end_time": "2021-06-25T00:34:05.882030Z",
     "start_time": "2021-06-25T00:34:05.867235Z"
    }
   },
   "outputs": [],
   "source": [
    "def findBestloan_mar(df):\n",
    "    for i in range(len(df)):\n",
    "        dic_data_mar['ISBN'].append(df['ISBN'][i])\n",
    "        dic_data_mar['loanCnt'].append(df['대출건수'][i])\n",
    "        dic_data_mar['rank'].append(df['순위'][i])\n",
    "        dic_data_mar['month'].append(df['month'][i])\n",
    "    for j in range(len(dic_data_mar['ISBN'])):\n",
    "        for k in range(len(cISBNlist)):\n",
    "            if dic_data_mar['ISBN'][j] == tISBNlist[k]:\n",
    "                bookdic_mar['ISBN'].append(dic_data_mar['ISBN'][j])\n",
    "                bookdic_mar['loanCnt'].append(dic_data_mar['loanCnt'][j])\n",
    "                bookdic_mar['rank'].append(dic_data_mar['rank'][j])\n",
    "                bookdic_mar['month'].append(dic_data_mar['month'][j])"
   ]
  },
  {
   "cell_type": "code",
   "execution_count": 22,
   "metadata": {
    "ExecuteTime": {
     "end_time": "2021-06-25T00:34:05.897755Z",
     "start_time": "2021-06-25T00:34:05.882714Z"
    }
   },
   "outputs": [],
   "source": [
    "def findBestloan_apr(df):\n",
    "    for i in range(len(df)):\n",
    "        dic_data_apr['ISBN'].append(df['ISBN'][i])\n",
    "        dic_data_apr['loanCnt'].append(df['대출건수'][i])\n",
    "        dic_data_apr['rank'].append(df['순위'][i])\n",
    "        dic_data_apr['month'].append(df['month'][i])\n",
    "    for j in range(len(dic_data_apr['ISBN'])):\n",
    "        for k in range(len(cISBNlist)):\n",
    "            if dic_data_apr['ISBN'][j] == tISBNlist[k]:\n",
    "                bookdic_apr['ISBN'].append(dic_data_apr['ISBN'][j])\n",
    "                bookdic_apr['loanCnt'].append(dic_data_apr['loanCnt'][j])\n",
    "                bookdic_apr['rank'].append(dic_data_apr['rank'][j])\n",
    "                bookdic_apr['month'].append(dic_data_apr['month'][j])"
   ]
  },
  {
   "cell_type": "code",
   "execution_count": 23,
   "metadata": {
    "ExecuteTime": {
     "end_time": "2021-06-25T00:34:05.913678Z",
     "start_time": "2021-06-25T00:34:05.899739Z"
    }
   },
   "outputs": [],
   "source": [
    "def findBestloan_may(df):\n",
    "    for i in range(len(df)):\n",
    "        dic_data_may['ISBN'].append(df['ISBN'][i])\n",
    "        dic_data_may['loanCnt'].append(df['대출건수'][i])\n",
    "        dic_data_may['rank'].append(df['순위'][i])\n",
    "        dic_data_may['month'].append(df['month'][i])\n",
    "    for j in range(len(dic_data_may['ISBN'])):\n",
    "        for k in range(len(cISBNlist)):\n",
    "            if dic_data_may['ISBN'][j] == tISBNlist[k]:\n",
    "                bookdic_may['ISBN'].append(dic_data_may['ISBN'][j])\n",
    "                bookdic_may['loanCnt'].append(dic_data_may['loanCnt'][j])\n",
    "                bookdic_may['rank'].append(dic_data_may['rank'][j])\n",
    "                bookdic_may['month'].append(dic_data_may['month'][j])"
   ]
  },
  {
   "cell_type": "code",
   "execution_count": 24,
   "metadata": {
    "ExecuteTime": {
     "end_time": "2021-06-25T00:34:05.945430Z",
     "start_time": "2021-06-25T00:34:05.914511Z"
    }
   },
   "outputs": [],
   "source": [
    "findBestloan_jan(gwangju_jan_2030)\n",
    "findBestloan_feb(gwangju_feb_2030)\n",
    "findBestloan_mar(gwangju_mar_2030)\n",
    "findBestloan_apr(gwangju_apr_2030)\n",
    "findBestloan_may(gwangju_may_2030)"
   ]
  },
  {
   "cell_type": "code",
   "execution_count": 25,
   "metadata": {
    "ExecuteTime": {
     "end_time": "2021-06-25T00:34:07.167018Z",
     "start_time": "2021-06-25T00:34:05.946095Z"
    }
   },
   "outputs": [],
   "source": [
    "driver = wb.Chrome()\n",
    "driver.get(url)"
   ]
  },
  {
   "cell_type": "code",
   "execution_count": 29,
   "metadata": {
    "ExecuteTime": {
     "end_time": "2021-06-25T00:37:09.025381Z",
     "start_time": "2021-06-25T00:35:12.374425Z"
    }
   },
   "outputs": [],
   "source": [
    "for i in bookdic_jan['ISBN']:\n",
    "    input_area = driver.find_element_by_id('query')\n",
    "    btn = driver.find_element_by_class_name('schBtn')\n",
    "    \n",
    "    input_area.send_keys(i)\n",
    "    btn.click()\n",
    "    time.sleep(2)\n",
    "    \n",
    "    soup = bs(driver.page_source, 'lxml')\n",
    "    bookName = soup.select('p.goods_name.goods_icon > a')\n",
    "    authorName = soup.select('div.goods_info > a')\n",
    "    publisherName = soup.select('div.goods_info > span.dim_txt002 + a')\n",
    "    starCnt = soup.select('div.goods_rating > span.gd_rating > em.yes_b')\n",
    "    \n",
    "    if len(bookName) != 0 :\n",
    "        bookdic_jan['bookName'].append(bookName[0].text)\n",
    "    else:\n",
    "        bookdic_jan['bookName'].append('None')\n",
    "        \n",
    "    if len(authorName) != 0 :\n",
    "        bookdic_jan['authorName'].append(authorName[0].text)\n",
    "    else:\n",
    "        bookdic_jan['authorName'].append('None')\n",
    "        \n",
    "    if len(publisherName) != 0 :\n",
    "        bookdic_jan['publisher'].append(publisherName[0].text)\n",
    "    else:\n",
    "        bookdic_jan['publisher'].append('None')\n",
    "        \n",
    "    if len(starCnt) != 0 :\n",
    "        bookdic_jan['starCnt'].append(starCnt[0].text)\n",
    "    else:\n",
    "        bookdic_jan['starCnt'].append('0.0')\n",
    "    \n",
    "    driver.back()"
   ]
  },
  {
   "cell_type": "code",
   "execution_count": 30,
   "metadata": {
    "ExecuteTime": {
     "end_time": "2021-06-25T00:39:12.138913Z",
     "start_time": "2021-06-25T00:37:09.026379Z"
    }
   },
   "outputs": [],
   "source": [
    "for i in bookdic_feb['ISBN']:\n",
    "    input_area = driver.find_element_by_id('query')\n",
    "    btn = driver.find_element_by_class_name('schBtn')\n",
    "    \n",
    "    input_area.send_keys(i)\n",
    "    btn.click()\n",
    "    time.sleep(2)\n",
    "    \n",
    "    soup = bs(driver.page_source, 'lxml')\n",
    "    bookName = soup.select('p.goods_name.goods_icon > a')\n",
    "    authorName = soup.select('div.goods_info > a')\n",
    "    publisherName = soup.select('div.goods_info > span.dim_txt002 + a')\n",
    "    starCnt = soup.select('div.goods_rating > span.gd_rating > em.yes_b')\n",
    "    \n",
    "    if len(bookName) != 0 :\n",
    "        bookdic_feb['bookName'].append(bookName[0].text)\n",
    "    else:\n",
    "        bookdic_feb['bookName'].append('None')\n",
    "        \n",
    "    if len(authorName) != 0 :\n",
    "        bookdic_feb['authorName'].append(authorName[0].text)\n",
    "    else:\n",
    "        bookdic_feb['authorName'].append('None')\n",
    "        \n",
    "    if len(publisherName) != 0 :\n",
    "        bookdic_feb['publisher'].append(publisherName[0].text)\n",
    "    else:\n",
    "        bookdic_feb['publisher'].append('None')\n",
    "        \n",
    "    if len(starCnt) != 0 :\n",
    "        bookdic_feb['starCnt'].append(starCnt[0].text)\n",
    "    else:\n",
    "        bookdic_feb['starCnt'].append('0.0')\n",
    "    \n",
    "    driver.back()"
   ]
  },
  {
   "cell_type": "code",
   "execution_count": 31,
   "metadata": {
    "ExecuteTime": {
     "end_time": "2021-06-25T00:41:16.400753Z",
     "start_time": "2021-06-25T00:39:12.139909Z"
    }
   },
   "outputs": [],
   "source": [
    "for i in bookdic_mar['ISBN']:\n",
    "    input_area = driver.find_element_by_id('query')\n",
    "    btn = driver.find_element_by_class_name('schBtn')\n",
    "    \n",
    "    input_area.send_keys(i)\n",
    "    btn.click()\n",
    "    time.sleep(2)\n",
    "    \n",
    "    soup = bs(driver.page_source, 'lxml')\n",
    "    bookName = soup.select('p.goods_name.goods_icon > a')\n",
    "    authorName = soup.select('div.goods_info > a')\n",
    "    publisherName = soup.select('div.goods_info > span.dim_txt002 + a')\n",
    "    starCnt = soup.select('div.goods_rating > span.gd_rating > em.yes_b')\n",
    "    \n",
    "    if len(bookName) != 0 :\n",
    "        bookdic_mar['bookName'].append(bookName[0].text)\n",
    "    else:\n",
    "        bookdic_mar['bookName'].append('None')\n",
    "        \n",
    "    if len(authorName) != 0 :\n",
    "        bookdic_mar['authorName'].append(authorName[0].text)\n",
    "    else:\n",
    "        bookdic_mar['authorName'].append('None')\n",
    "        \n",
    "    if len(publisherName) != 0 :\n",
    "        bookdic_mar['publisher'].append(publisherName[0].text)\n",
    "    else:\n",
    "        bookdic_mar['publisher'].append('None')\n",
    "        \n",
    "    if len(starCnt) != 0 :\n",
    "        bookdic_mar['starCnt'].append(starCnt[0].text)\n",
    "    else:\n",
    "        bookdic_mar['starCnt'].append('0.0')\n",
    "    \n",
    "    driver.back()"
   ]
  },
  {
   "cell_type": "code",
   "execution_count": 32,
   "metadata": {
    "ExecuteTime": {
     "end_time": "2021-06-25T00:43:15.107631Z",
     "start_time": "2021-06-25T00:41:16.401750Z"
    }
   },
   "outputs": [],
   "source": [
    "for i in bookdic_apr['ISBN']:\n",
    "    input_area = driver.find_element_by_id('query')\n",
    "    btn = driver.find_element_by_class_name('schBtn')\n",
    "    \n",
    "    input_area.send_keys(i)\n",
    "    btn.click()\n",
    "    time.sleep(2)\n",
    "    \n",
    "    soup = bs(driver.page_source, 'lxml')\n",
    "    bookName = soup.select('p.goods_name.goods_icon > a')\n",
    "    authorName = soup.select('div.goods_info > a')\n",
    "    publisherName = soup.select('div.goods_info > span.dim_txt002 + a')\n",
    "    starCnt = soup.select('div.goods_rating > span.gd_rating > em.yes_b')\n",
    "    \n",
    "    if len(bookName) != 0 :\n",
    "        bookdic_apr['bookName'].append(bookName[0].text)\n",
    "    else:\n",
    "        bookdic_apr['bookName'].append('None')\n",
    "        \n",
    "    if len(authorName) != 0 :\n",
    "        bookdic_apr['authorName'].append(authorName[0].text)\n",
    "    else:\n",
    "        bookdic_apr['authorName'].append('None')\n",
    "        \n",
    "    if len(publisherName) != 0 :\n",
    "        bookdic_apr['publisher'].append(publisherName[0].text)\n",
    "    else:\n",
    "        bookdic_apr['publisher'].append('None')\n",
    "        \n",
    "    if len(starCnt) != 0 :\n",
    "        bookdic_apr['starCnt'].append(starCnt[0].text)\n",
    "    else:\n",
    "        bookdic_apr['starCnt'].append('0.0')\n",
    "    \n",
    "    driver.back()"
   ]
  },
  {
   "cell_type": "code",
   "execution_count": 33,
   "metadata": {
    "ExecuteTime": {
     "end_time": "2021-06-25T00:45:08.013968Z",
     "start_time": "2021-06-25T00:43:15.108628Z"
    }
   },
   "outputs": [],
   "source": [
    "for i in bookdic_may['ISBN']:\n",
    "    input_area = driver.find_element_by_id('query')\n",
    "    btn = driver.find_element_by_class_name('schBtn')\n",
    "    \n",
    "    input_area.send_keys(i)\n",
    "    btn.click()\n",
    "    time.sleep(2)\n",
    "    \n",
    "    soup = bs(driver.page_source, 'lxml')\n",
    "    bookName = soup.select('p.goods_name.goods_icon > a')\n",
    "    authorName = soup.select('div.goods_info > a')\n",
    "    publisherName = soup.select('div.goods_info > span.dim_txt002 + a')\n",
    "    starCnt = soup.select('div.goods_rating > span.gd_rating > em.yes_b')\n",
    "    \n",
    "    if len(bookName) != 0 :\n",
    "        bookdic_may['bookName'].append(bookName[0].text)\n",
    "    else:\n",
    "        bookdic_may['bookName'].append('None')\n",
    "        \n",
    "    if len(authorName) != 0 :\n",
    "        bookdic_may['authorName'].append(authorName[0].text)\n",
    "    else:\n",
    "        bookdic_may['authorName'].append('None')\n",
    "        \n",
    "    if len(publisherName) != 0 :\n",
    "        bookdic_may['publisher'].append(publisherName[0].text)\n",
    "    else:\n",
    "        bookdic_may['publisher'].append('None')\n",
    "        \n",
    "    if len(starCnt) != 0 :\n",
    "        bookdic_may['starCnt'].append(starCnt[0].text)\n",
    "    else:\n",
    "        bookdic_may['starCnt'].append('0.0')\n",
    "    \n",
    "    driver.back()"
   ]
  },
  {
   "cell_type": "code",
   "execution_count": 34,
   "metadata": {
    "ExecuteTime": {
     "end_time": "2021-06-25T00:45:08.436971Z",
     "start_time": "2021-06-25T00:45:08.014936Z"
    }
   },
   "outputs": [],
   "source": [
    "driver.close()"
   ]
  },
  {
   "cell_type": "code",
   "execution_count": 35,
   "metadata": {
    "ExecuteTime": {
     "end_time": "2021-06-25T00:45:08.451929Z",
     "start_time": "2021-06-25T00:45:08.438963Z"
    }
   },
   "outputs": [],
   "source": [
    "bookdic_to_df_jan = pd.DataFrame(bookdic_jan)\n",
    "bookdic_to_df_feb = pd.DataFrame(bookdic_feb)\n",
    "bookdic_to_df_mar = pd.DataFrame(bookdic_mar)\n",
    "bookdic_to_df_apr = pd.DataFrame(bookdic_apr)\n",
    "bookdic_to_df_may = pd.DataFrame(bookdic_may)"
   ]
  },
  {
   "cell_type": "code",
   "execution_count": 36,
   "metadata": {
    "ExecuteTime": {
     "end_time": "2021-06-25T00:45:08.483844Z",
     "start_time": "2021-06-25T00:45:08.454922Z"
    }
   },
   "outputs": [
    {
     "data": {
      "text/html": [
       "<div>\n",
       "<style scoped>\n",
       "    .dataframe tbody tr th:only-of-type {\n",
       "        vertical-align: middle;\n",
       "    }\n",
       "\n",
       "    .dataframe tbody tr th {\n",
       "        vertical-align: top;\n",
       "    }\n",
       "\n",
       "    .dataframe thead th {\n",
       "        text-align: right;\n",
       "    }\n",
       "</style>\n",
       "<table border=\"1\" class=\"dataframe\">\n",
       "  <thead>\n",
       "    <tr style=\"text-align: right;\">\n",
       "      <th></th>\n",
       "      <th>ISBN</th>\n",
       "      <th>bookName</th>\n",
       "      <th>authorName</th>\n",
       "      <th>publisher</th>\n",
       "      <th>starCnt</th>\n",
       "      <th>month</th>\n",
       "      <th>rank</th>\n",
       "      <th>loanCnt</th>\n",
       "    </tr>\n",
       "  </thead>\n",
       "  <tbody>\n",
       "    <tr>\n",
       "      <th>0</th>\n",
       "      <td>9791160946918</td>\n",
       "      <td>어린이라는 세계</td>\n",
       "      <td>김소영</td>\n",
       "      <td>사계절</td>\n",
       "      <td>9.8</td>\n",
       "      <td>may</td>\n",
       "      <td>1</td>\n",
       "      <td>20</td>\n",
       "    </tr>\n",
       "    <tr>\n",
       "      <th>1</th>\n",
       "      <td>9791165341909</td>\n",
       "      <td>달러구트 꿈 백화점</td>\n",
       "      <td>이미예</td>\n",
       "      <td>팩토리나인</td>\n",
       "      <td>9.2</td>\n",
       "      <td>may</td>\n",
       "      <td>2</td>\n",
       "      <td>19</td>\n",
       "    </tr>\n",
       "    <tr>\n",
       "      <th>2</th>\n",
       "      <td>9788934986652</td>\n",
       "      <td>어떻게 말해줘야 할까</td>\n",
       "      <td>오은영</td>\n",
       "      <td>김영사</td>\n",
       "      <td>9.8</td>\n",
       "      <td>may</td>\n",
       "      <td>3</td>\n",
       "      <td>15</td>\n",
       "    </tr>\n",
       "    <tr>\n",
       "      <th>3</th>\n",
       "      <td>9791160022988</td>\n",
       "      <td>주린이도 술술 읽는 친절한 주식책</td>\n",
       "      <td>최정희</td>\n",
       "      <td>메이트북스</td>\n",
       "      <td>9.4</td>\n",
       "      <td>may</td>\n",
       "      <td>4</td>\n",
       "      <td>14</td>\n",
       "    </tr>\n",
       "    <tr>\n",
       "      <th>4</th>\n",
       "      <td>9791190786355</td>\n",
       "      <td>보통의 언어들 (별밤 리커버 에디션)</td>\n",
       "      <td>김이나</td>\n",
       "      <td>위즈덤하우스</td>\n",
       "      <td>8.7</td>\n",
       "      <td>may</td>\n",
       "      <td>4</td>\n",
       "      <td>14</td>\n",
       "    </tr>\n",
       "    <tr>\n",
       "      <th>5</th>\n",
       "      <td>9788956609959</td>\n",
       "      <td>종의 기원</td>\n",
       "      <td>정유정</td>\n",
       "      <td>은행나무</td>\n",
       "      <td>8.7</td>\n",
       "      <td>may</td>\n",
       "      <td>6</td>\n",
       "      <td>13</td>\n",
       "    </tr>\n",
       "    <tr>\n",
       "      <th>6</th>\n",
       "      <td>9788956604992</td>\n",
       "      <td>7년의 밤</td>\n",
       "      <td>정유정</td>\n",
       "      <td>은행나무</td>\n",
       "      <td>8.9</td>\n",
       "      <td>may</td>\n",
       "      <td>8</td>\n",
       "      <td>12</td>\n",
       "    </tr>\n",
       "    <tr>\n",
       "      <th>7</th>\n",
       "      <td>9788996991342</td>\n",
       "      <td>미움받을 용기</td>\n",
       "      <td>기시미 이치로</td>\n",
       "      <td>인플루엔셜</td>\n",
       "      <td>8.9</td>\n",
       "      <td>may</td>\n",
       "      <td>8</td>\n",
       "      <td>12</td>\n",
       "    </tr>\n",
       "    <tr>\n",
       "      <th>8</th>\n",
       "      <td>9791157841110</td>\n",
       "      <td>미라클 모닝</td>\n",
       "      <td>할 엘로드</td>\n",
       "      <td>한빛비즈</td>\n",
       "      <td>8.9</td>\n",
       "      <td>may</td>\n",
       "      <td>8</td>\n",
       "      <td>12</td>\n",
       "    </tr>\n",
       "    <tr>\n",
       "      <th>9</th>\n",
       "      <td>9791188331796</td>\n",
       "      <td>[예스리커버] 돈의 속성</td>\n",
       "      <td>김승호</td>\n",
       "      <td>스노우폭스북스</td>\n",
       "      <td>9.5</td>\n",
       "      <td>may</td>\n",
       "      <td>8</td>\n",
       "      <td>12</td>\n",
       "    </tr>\n",
       "    <tr>\n",
       "      <th>10</th>\n",
       "      <td>9791188862290</td>\n",
       "      <td>지구에서 한아뿐</td>\n",
       "      <td>정세랑</td>\n",
       "      <td>난다</td>\n",
       "      <td>9.1</td>\n",
       "      <td>may</td>\n",
       "      <td>8</td>\n",
       "      <td>12</td>\n",
       "    </tr>\n",
       "    <tr>\n",
       "      <th>11</th>\n",
       "      <td>9788901243658</td>\n",
       "      <td>기분이 태도가 되지 않게 (썸머 에디션)</td>\n",
       "      <td>레몬심리</td>\n",
       "      <td>갤리온</td>\n",
       "      <td>9.0</td>\n",
       "      <td>may</td>\n",
       "      <td>13</td>\n",
       "      <td>11</td>\n",
       "    </tr>\n",
       "    <tr>\n",
       "      <th>12</th>\n",
       "      <td>9788936434243</td>\n",
       "      <td>피프티 피플</td>\n",
       "      <td>정세랑</td>\n",
       "      <td>창비</td>\n",
       "      <td>9.2</td>\n",
       "      <td>may</td>\n",
       "      <td>13</td>\n",
       "      <td>11</td>\n",
       "    </tr>\n",
       "    <tr>\n",
       "      <th>13</th>\n",
       "      <td>9788968331862</td>\n",
       "      <td>방구석 미술관 (100쇄 기념 스페셜 에디션)</td>\n",
       "      <td>조원재</td>\n",
       "      <td>블랙피쉬</td>\n",
       "      <td>9.4</td>\n",
       "      <td>may</td>\n",
       "      <td>13</td>\n",
       "      <td>11</td>\n",
       "    </tr>\n",
       "    <tr>\n",
       "      <th>14</th>\n",
       "      <td>9791162540640</td>\n",
       "      <td>아주 작은 습관의 힘</td>\n",
       "      <td>제임스 클리어</td>\n",
       "      <td>비즈니스북스</td>\n",
       "      <td>9.3</td>\n",
       "      <td>may</td>\n",
       "      <td>13</td>\n",
       "      <td>11</td>\n",
       "    </tr>\n",
       "    <tr>\n",
       "      <th>15</th>\n",
       "      <td>9788936434267</td>\n",
       "      <td>아몬드</td>\n",
       "      <td>손원평</td>\n",
       "      <td>창비</td>\n",
       "      <td>9.2</td>\n",
       "      <td>may</td>\n",
       "      <td>19</td>\n",
       "      <td>10</td>\n",
       "    </tr>\n",
       "    <tr>\n",
       "      <th>16</th>\n",
       "      <td>9788936438036</td>\n",
       "      <td>일의 기쁨과 슬픔</td>\n",
       "      <td>장류진</td>\n",
       "      <td>창비</td>\n",
       "      <td>9.0</td>\n",
       "      <td>may</td>\n",
       "      <td>19</td>\n",
       "      <td>10</td>\n",
       "    </tr>\n",
       "    <tr>\n",
       "      <th>17</th>\n",
       "      <td>9788937473098</td>\n",
       "      <td>보건교사 안은영</td>\n",
       "      <td>정세랑</td>\n",
       "      <td>민음사</td>\n",
       "      <td>9.1</td>\n",
       "      <td>may</td>\n",
       "      <td>19</td>\n",
       "      <td>10</td>\n",
       "    </tr>\n",
       "    <tr>\n",
       "      <th>18</th>\n",
       "      <td>9791187119845</td>\n",
       "      <td>나는 나로 살기로 했다</td>\n",
       "      <td>김수현</td>\n",
       "      <td>마음의숲</td>\n",
       "      <td>9.0</td>\n",
       "      <td>may</td>\n",
       "      <td>19</td>\n",
       "      <td>10</td>\n",
       "    </tr>\n",
       "    <tr>\n",
       "      <th>19</th>\n",
       "      <td>9791190090018</td>\n",
       "      <td>[예스리커버] 우리가 빛의 속도로 갈 수 없다면</td>\n",
       "      <td>김초엽</td>\n",
       "      <td>허블</td>\n",
       "      <td>9.4</td>\n",
       "      <td>may</td>\n",
       "      <td>19</td>\n",
       "      <td>10</td>\n",
       "    </tr>\n",
       "    <tr>\n",
       "      <th>20</th>\n",
       "      <td>9791130629636</td>\n",
       "      <td>애쓰지 않고 편안하게</td>\n",
       "      <td>김수현</td>\n",
       "      <td>놀</td>\n",
       "      <td>9.4</td>\n",
       "      <td>may</td>\n",
       "      <td>29</td>\n",
       "      <td>9</td>\n",
       "    </tr>\n",
       "    <tr>\n",
       "      <th>21</th>\n",
       "      <td>9791164136452</td>\n",
       "      <td>공정하다는 착각</td>\n",
       "      <td>마이클 샌델</td>\n",
       "      <td>와이즈베리</td>\n",
       "      <td>9.2</td>\n",
       "      <td>may</td>\n",
       "      <td>29</td>\n",
       "      <td>9</td>\n",
       "    </tr>\n",
       "    <tr>\n",
       "      <th>22</th>\n",
       "      <td>9791165300005</td>\n",
       "      <td>목소리를 드릴게요</td>\n",
       "      <td>정세랑</td>\n",
       "      <td>아작</td>\n",
       "      <td>9.5</td>\n",
       "      <td>may</td>\n",
       "      <td>29</td>\n",
       "      <td>9</td>\n",
       "    </tr>\n",
       "    <tr>\n",
       "      <th>23</th>\n",
       "      <td>9791190090261</td>\n",
       "      <td>천 개의 파랑</td>\n",
       "      <td>천선란</td>\n",
       "      <td>허블</td>\n",
       "      <td>9.4</td>\n",
       "      <td>may</td>\n",
       "      <td>29</td>\n",
       "      <td>9</td>\n",
       "    </tr>\n",
       "    <tr>\n",
       "      <th>24</th>\n",
       "      <td>9791191071030</td>\n",
       "      <td>프리즘</td>\n",
       "      <td>손원평</td>\n",
       "      <td>은행나무</td>\n",
       "      <td>9.1</td>\n",
       "      <td>may</td>\n",
       "      <td>29</td>\n",
       "      <td>9</td>\n",
       "    </tr>\n",
       "    <tr>\n",
       "      <th>25</th>\n",
       "      <td>9788936437534</td>\n",
       "      <td>옥상에서 만나요</td>\n",
       "      <td>정세랑</td>\n",
       "      <td>창비</td>\n",
       "      <td>9.2</td>\n",
       "      <td>may</td>\n",
       "      <td>44</td>\n",
       "      <td>8</td>\n",
       "    </tr>\n",
       "    <tr>\n",
       "      <th>26</th>\n",
       "      <td>9788959896837</td>\n",
       "      <td>트렌드 코리아 2021</td>\n",
       "      <td>김난도</td>\n",
       "      <td>미래의창</td>\n",
       "      <td>9.2</td>\n",
       "      <td>may</td>\n",
       "      <td>44</td>\n",
       "      <td>8</td>\n",
       "    </tr>\n",
       "    <tr>\n",
       "      <th>27</th>\n",
       "      <td>9788965746669</td>\n",
       "      <td>당신이 옳다</td>\n",
       "      <td>정혜신</td>\n",
       "      <td>해냄</td>\n",
       "      <td>9.3</td>\n",
       "      <td>may</td>\n",
       "      <td>44</td>\n",
       "      <td>8</td>\n",
       "    </tr>\n",
       "    <tr>\n",
       "      <th>28</th>\n",
       "      <td>9791158511906</td>\n",
       "      <td>나의 하루는 4시 30분에 시작된다</td>\n",
       "      <td>김유진</td>\n",
       "      <td>토네이도</td>\n",
       "      <td>9.0</td>\n",
       "      <td>may</td>\n",
       "      <td>44</td>\n",
       "      <td>8</td>\n",
       "    </tr>\n",
       "    <tr>\n",
       "      <th>29</th>\n",
       "      <td>9791165075064</td>\n",
       "      <td>녹나무의 파수꾼</td>\n",
       "      <td>히가시노 게이고</td>\n",
       "      <td>소미미디어</td>\n",
       "      <td>9.0</td>\n",
       "      <td>may</td>\n",
       "      <td>44</td>\n",
       "      <td>8</td>\n",
       "    </tr>\n",
       "    <tr>\n",
       "      <th>30</th>\n",
       "      <td>9788972756194</td>\n",
       "      <td>나미야 잡화점의 기적 (봄날 에디션)</td>\n",
       "      <td>히가시노 게이고</td>\n",
       "      <td>현대문학</td>\n",
       "      <td>9.2</td>\n",
       "      <td>may</td>\n",
       "      <td>62</td>\n",
       "      <td>7</td>\n",
       "    </tr>\n",
       "    <tr>\n",
       "      <th>31</th>\n",
       "      <td>9788998441074</td>\n",
       "      <td>나는 소망한다 내게 금지된 것을</td>\n",
       "      <td>양귀자</td>\n",
       "      <td>쓰다</td>\n",
       "      <td>9.6</td>\n",
       "      <td>may</td>\n",
       "      <td>62</td>\n",
       "      <td>7</td>\n",
       "    </tr>\n",
       "    <tr>\n",
       "      <th>32</th>\n",
       "      <td>9788998274795</td>\n",
       "      <td>돌이킬 수 없는 약속</td>\n",
       "      <td>야쿠마루 가쿠</td>\n",
       "      <td>북플라자</td>\n",
       "      <td>8.3</td>\n",
       "      <td>may</td>\n",
       "      <td>83</td>\n",
       "      <td>6</td>\n",
       "    </tr>\n",
       "    <tr>\n",
       "      <th>33</th>\n",
       "      <td>9788934992493</td>\n",
       "      <td>죽은 자의 집 청소</td>\n",
       "      <td>김완</td>\n",
       "      <td>김영사</td>\n",
       "      <td>9.2</td>\n",
       "      <td>may</td>\n",
       "      <td>120</td>\n",
       "      <td>5</td>\n",
       "    </tr>\n",
       "  </tbody>\n",
       "</table>\n",
       "</div>"
      ],
      "text/plain": [
       "             ISBN                    bookName authorName publisher starCnt  \\\n",
       "0   9791160946918                    어린이라는 세계        김소영       사계절     9.8   \n",
       "1   9791165341909                  달러구트 꿈 백화점        이미예     팩토리나인     9.2   \n",
       "2   9788934986652                 어떻게 말해줘야 할까        오은영       김영사     9.8   \n",
       "3   9791160022988          주린이도 술술 읽는 친절한 주식책        최정희     메이트북스     9.4   \n",
       "4   9791190786355        보통의 언어들 (별밤 리커버 에디션)        김이나    위즈덤하우스     8.7   \n",
       "5   9788956609959                       종의 기원        정유정      은행나무     8.7   \n",
       "6   9788956604992                       7년의 밤        정유정      은행나무     8.9   \n",
       "7   9788996991342                     미움받을 용기    기시미 이치로     인플루엔셜     8.9   \n",
       "8   9791157841110                      미라클 모닝      할 엘로드      한빛비즈     8.9   \n",
       "9   9791188331796              [예스리커버] 돈의 속성         김승호   스노우폭스북스     9.5   \n",
       "10  9791188862290                    지구에서 한아뿐        정세랑        난다     9.1   \n",
       "11  9788901243658      기분이 태도가 되지 않게 (썸머 에디션)       레몬심리       갤리온     9.0   \n",
       "12  9788936434243                      피프티 피플        정세랑        창비     9.2   \n",
       "13  9788968331862   방구석 미술관 (100쇄 기념 스페셜 에디션)        조원재      블랙피쉬     9.4   \n",
       "14  9791162540640                 아주 작은 습관의 힘    제임스 클리어    비즈니스북스     9.3   \n",
       "15  9788936434267                         아몬드        손원평        창비     9.2   \n",
       "16  9788936438036                   일의 기쁨과 슬픔        장류진        창비     9.0   \n",
       "17  9788937473098                    보건교사 안은영        정세랑       민음사     9.1   \n",
       "18  9791187119845                나는 나로 살기로 했다        김수현      마음의숲     9.0   \n",
       "19  9791190090018  [예스리커버] 우리가 빛의 속도로 갈 수 없다면        김초엽        허블     9.4   \n",
       "20  9791130629636                 애쓰지 않고 편안하게        김수현         놀     9.4   \n",
       "21  9791164136452                    공정하다는 착각     마이클 샌델     와이즈베리     9.2   \n",
       "22  9791165300005                   목소리를 드릴게요        정세랑        아작     9.5   \n",
       "23  9791190090261                     천 개의 파랑        천선란        허블     9.4   \n",
       "24  9791191071030                         프리즘        손원평      은행나무     9.1   \n",
       "25  9788936437534                    옥상에서 만나요        정세랑        창비     9.2   \n",
       "26  9788959896837                트렌드 코리아 2021        김난도      미래의창     9.2   \n",
       "27  9788965746669                      당신이 옳다        정혜신        해냄     9.3   \n",
       "28  9791158511906         나의 하루는 4시 30분에 시작된다        김유진      토네이도     9.0   \n",
       "29  9791165075064                    녹나무의 파수꾼   히가시노 게이고     소미미디어     9.0   \n",
       "30  9788972756194        나미야 잡화점의 기적 (봄날 에디션)   히가시노 게이고      현대문학     9.2   \n",
       "31  9788998441074           나는 소망한다 내게 금지된 것을        양귀자        쓰다     9.6   \n",
       "32  9788998274795                 돌이킬 수 없는 약속    야쿠마루 가쿠      북플라자     8.3   \n",
       "33  9788934992493                  죽은 자의 집 청소         김완       김영사     9.2   \n",
       "\n",
       "   month  rank  loanCnt  \n",
       "0    may     1       20  \n",
       "1    may     2       19  \n",
       "2    may     3       15  \n",
       "3    may     4       14  \n",
       "4    may     4       14  \n",
       "5    may     6       13  \n",
       "6    may     8       12  \n",
       "7    may     8       12  \n",
       "8    may     8       12  \n",
       "9    may     8       12  \n",
       "10   may     8       12  \n",
       "11   may    13       11  \n",
       "12   may    13       11  \n",
       "13   may    13       11  \n",
       "14   may    13       11  \n",
       "15   may    19       10  \n",
       "16   may    19       10  \n",
       "17   may    19       10  \n",
       "18   may    19       10  \n",
       "19   may    19       10  \n",
       "20   may    29        9  \n",
       "21   may    29        9  \n",
       "22   may    29        9  \n",
       "23   may    29        9  \n",
       "24   may    29        9  \n",
       "25   may    44        8  \n",
       "26   may    44        8  \n",
       "27   may    44        8  \n",
       "28   may    44        8  \n",
       "29   may    44        8  \n",
       "30   may    62        7  \n",
       "31   may    62        7  \n",
       "32   may    83        6  \n",
       "33   may   120        5  "
      ]
     },
     "execution_count": 36,
     "metadata": {},
     "output_type": "execute_result"
    }
   ],
   "source": [
    "# 1월 children 인기도서 데이터\n",
    "bookdic_to_df_jan\n",
    "# 2월\n",
    "bookdic_to_df_feb\n",
    "# 3월\n",
    "bookdic_to_df_mar\n",
    "# 4월\n",
    "bookdic_to_df_apr\n",
    "# 5월\n",
    "bookdic_to_df_may"
   ]
  },
  {
   "cell_type": "code",
   "execution_count": 37,
   "metadata": {
    "ExecuteTime": {
     "end_time": "2021-06-25T00:45:08.499805Z",
     "start_time": "2021-06-25T00:45:08.484841Z"
    }
   },
   "outputs": [],
   "source": [
    "tt_loanData_JtoM = pd.concat([bookdic_to_df_jan, bookdic_to_df_feb,\n",
    "                                bookdic_to_df_mar, bookdic_to_df_apr,\n",
    "                                bookdic_to_df_may])"
   ]
  },
  {
   "cell_type": "code",
   "execution_count": 38,
   "metadata": {
    "ExecuteTime": {
     "end_time": "2021-06-25T00:45:08.515758Z",
     "start_time": "2021-06-25T00:45:08.501796Z"
    }
   },
   "outputs": [],
   "source": [
    "pd.set_option('display.max_rows', None)"
   ]
  },
  {
   "cell_type": "code",
   "execution_count": 39,
   "metadata": {
    "ExecuteTime": {
     "end_time": "2021-06-25T00:45:08.531715Z",
     "start_time": "2021-06-25T00:45:08.516756Z"
    }
   },
   "outputs": [],
   "source": [
    "tt_loanData_JtoM.reset_index(inplace=True)"
   ]
  },
  {
   "cell_type": "code",
   "execution_count": 40,
   "metadata": {
    "ExecuteTime": {
     "end_time": "2021-06-25T00:45:08.578848Z",
     "start_time": "2021-06-25T00:45:08.532713Z"
    }
   },
   "outputs": [],
   "source": [
    "del tt_loanData_JtoM['index']"
   ]
  },
  {
   "cell_type": "markdown",
   "metadata": {
    "ExecuteTime": {
     "end_time": "2021-06-24T08:11:24.192163Z",
     "start_time": "2021-06-24T08:11:24.178209Z"
    }
   },
   "source": [
    "child_loanData_JtoM[child_loanData_JtoM['bookName']=='이상한 과자 가게 전천당 2']\n",
    "# april에 200위 안에 없음"
   ]
  },
  {
   "cell_type": "markdown",
   "metadata": {
    "ExecuteTime": {
     "end_time": "2021-06-24T08:11:24.458227Z",
     "start_time": "2021-06-24T08:11:24.434292Z"
    }
   },
   "source": [
    "listbook1 = ['9791164060498', '이상한 과자 가게 전천당 2', '히로시마 레이코',\n",
    "            '길벗스쿨', '9.4', 'apr', 7]\n",
    "child_loanData_JtoM = child_loanData_JtoM.append(pd.Series(listbook1, \n",
    "                                                           index=child_loanData_JtoM.columns), \n",
    "                                                 ignore_index=True)"
   ]
  },
  {
   "cell_type": "code",
   "execution_count": 41,
   "metadata": {
    "ExecuteTime": {
     "end_time": "2021-06-25T00:45:08.594258Z",
     "start_time": "2021-06-25T00:45:08.579376Z"
    }
   },
   "outputs": [],
   "source": [
    "def monthnumbering(data):\n",
    "    if data['month'] == 'jan':\n",
    "        return '1'\n",
    "    elif data['month'] == 'feb':\n",
    "        return '2'\n",
    "    elif data['month'] == 'mar':\n",
    "        return '3'\n",
    "    elif data['month'] == 'apr':\n",
    "        return '4'\n",
    "    elif data['month'] == 'may':\n",
    "        return '5'"
   ]
  },
  {
   "cell_type": "code",
   "execution_count": 42,
   "metadata": {
    "ExecuteTime": {
     "end_time": "2021-06-25T00:45:08.608938Z",
     "start_time": "2021-06-25T00:45:08.595258Z"
    }
   },
   "outputs": [],
   "source": [
    "tt_loanData_JtoM['month'] = tt_loanData_JtoM.apply(monthnumbering, axis=1)"
   ]
  },
  {
   "cell_type": "code",
   "execution_count": 99,
   "metadata": {
    "ExecuteTime": {
     "end_time": "2021-06-26T12:07:14.037108Z",
     "start_time": "2021-06-26T12:07:14.031125Z"
    }
   },
   "outputs": [],
   "source": [
    "tt_loanData_JtoM.sort_values(['bookName', 'month'], inplace=True)"
   ]
  },
  {
   "cell_type": "code",
   "execution_count": 100,
   "metadata": {
    "ExecuteTime": {
     "end_time": "2021-06-26T12:07:14.383304Z",
     "start_time": "2021-06-26T12:07:14.378317Z"
    }
   },
   "outputs": [],
   "source": [
    "tt_loanData_JtoM.reset_index(inplace=True)"
   ]
  },
  {
   "cell_type": "code",
   "execution_count": 101,
   "metadata": {
    "ExecuteTime": {
     "end_time": "2021-06-26T12:07:15.762559Z",
     "start_time": "2021-06-26T12:07:15.749627Z"
    }
   },
   "outputs": [],
   "source": [
    "del tt_loanData_JtoM['index']"
   ]
  },
  {
   "cell_type": "code",
   "execution_count": 96,
   "metadata": {
    "ExecuteTime": {
     "end_time": "2021-06-26T12:06:52.974297Z",
     "start_time": "2021-06-26T12:06:52.955319Z"
    }
   },
   "outputs": [],
   "source": [
    "# jan에 200위 안에 없음\n",
    "listbook1 = ['9788995563502', '부의 인문학', '브라운스톤',\n",
    "            '오픈마인드', '8.4', '5', 200 , 3]\n",
    "tt_loanData_JtoM = tt_loanData_JtoM.append(pd.Series(listbook1, \n",
    "                                                           index=tt_loanData_JtoM.columns), \n",
    "                                                 ignore_index=True)"
   ]
  },
  {
   "cell_type": "code",
   "execution_count": 103,
   "metadata": {
    "ExecuteTime": {
     "end_time": "2021-06-26T12:07:48.785804Z",
     "start_time": "2021-06-26T12:07:48.774805Z"
    }
   },
   "outputs": [],
   "source": [
    "def montlyUseCntfill(data):\n",
    "    if data['month']=='1':\n",
    "        return 61500\n",
    "    elif data['month']=='2':\n",
    "        return 60000\n",
    "    elif data['month']=='3':\n",
    "        return 63000\n",
    "    elif data['month']=='4':\n",
    "        return 66000\n",
    "    elif data['month']=='5':\n",
    "        return 49500"
   ]
  },
  {
   "cell_type": "code",
   "execution_count": 104,
   "metadata": {
    "ExecuteTime": {
     "end_time": "2021-06-26T12:08:27.765262Z",
     "start_time": "2021-06-26T12:08:27.755270Z"
    }
   },
   "outputs": [],
   "source": [
    "def useAgeCntfill(data):\n",
    "    if data['month']=='1':\n",
    "        return 27982\n",
    "    elif data['month']=='2':\n",
    "        return 27300\n",
    "    elif data['month']=='3':\n",
    "        return 28665\n",
    "    elif data['month']=='4':\n",
    "        return 30030\n",
    "    elif data['month']=='5':\n",
    "        return 22522"
   ]
  },
  {
   "cell_type": "code",
   "execution_count": 105,
   "metadata": {
    "ExecuteTime": {
     "end_time": "2021-06-26T12:08:48.945216Z",
     "start_time": "2021-06-26T12:08:48.936241Z"
    }
   },
   "outputs": [],
   "source": [
    "tt_loanData_JtoM['montlyUseCnt']=tt_loanData_JtoM.apply(montlyUseCntfill, axis=1)"
   ]
  },
  {
   "cell_type": "code",
   "execution_count": 106,
   "metadata": {
    "ExecuteTime": {
     "end_time": "2021-06-26T12:08:49.225761Z",
     "start_time": "2021-06-26T12:08:49.205856Z"
    }
   },
   "outputs": [],
   "source": [
    "tt_loanData_JtoM['useAgeCnt']=tt_loanData_JtoM.apply(useAgeCntfill, axis=1)"
   ]
  },
  {
   "cell_type": "code",
   "execution_count": 107,
   "metadata": {
    "ExecuteTime": {
     "end_time": "2021-06-26T12:09:02.178227Z",
     "start_time": "2021-06-26T12:09:02.168254Z"
    }
   },
   "outputs": [],
   "source": [
    "def reverseRank(data):\n",
    "    return 200-data['rank']"
   ]
  },
  {
   "cell_type": "code",
   "execution_count": 108,
   "metadata": {
    "ExecuteTime": {
     "end_time": "2021-06-26T12:09:10.755638Z",
     "start_time": "2021-06-26T12:09:10.742673Z"
    }
   },
   "outputs": [],
   "source": [
    "tt_loanData_JtoM['rank']=tt_loanData_JtoM.apply(reverseRank, axis=1)"
   ]
  },
  {
   "cell_type": "code",
   "execution_count": 109,
   "metadata": {
    "ExecuteTime": {
     "end_time": "2021-06-26T12:09:19.957079Z",
     "start_time": "2021-06-26T12:09:19.945140Z"
    }
   },
   "outputs": [],
   "source": [
    "ISBNlist = []"
   ]
  },
  {
   "cell_type": "code",
   "execution_count": 110,
   "metadata": {
    "ExecuteTime": {
     "end_time": "2021-06-26T12:09:30.501166Z",
     "start_time": "2021-06-26T12:09:30.496178Z"
    }
   },
   "outputs": [],
   "source": [
    "def ISBNextract(data):\n",
    "    for i in range(len(data)):\n",
    "        if data['month'][i] == '5':\n",
    "            ISBNlist.append(data['ISBN'][i])"
   ]
  },
  {
   "cell_type": "code",
   "execution_count": 111,
   "metadata": {
    "ExecuteTime": {
     "end_time": "2021-06-26T12:09:36.414557Z",
     "start_time": "2021-06-26T12:09:36.403559Z"
    }
   },
   "outputs": [],
   "source": [
    "train_dic = {'bookName':[], 'month':[], \n",
    "             'rank':[], 'montlyUseCnt':[],\n",
    "             'useAgeCnt':[], 'loanCnt':[]}"
   ]
  },
  {
   "cell_type": "code",
   "execution_count": 112,
   "metadata": {
    "ExecuteTime": {
     "end_time": "2021-06-26T12:09:45.882807Z",
     "start_time": "2021-06-26T12:09:45.869813Z"
    }
   },
   "outputs": [],
   "source": [
    "train_df = pd.DataFrame(train_dic)\n",
    "test_df = pd.DataFrame(train_dic)"
   ]
  },
  {
   "cell_type": "code",
   "execution_count": 113,
   "metadata": {
    "ExecuteTime": {
     "end_time": "2021-06-26T12:10:02.826381Z",
     "start_time": "2021-06-26T12:10:02.819368Z"
    }
   },
   "outputs": [],
   "source": [
    "tt_loanData_JtoM.to_csv('gwangju_tt_bestloan40.csv', encoding='cp949')"
   ]
  },
  {
   "cell_type": "code",
   "execution_count": 114,
   "metadata": {
    "ExecuteTime": {
     "end_time": "2021-06-26T12:10:26.200349Z",
     "start_time": "2021-06-26T12:10:26.184391Z"
    }
   },
   "outputs": [],
   "source": [
    "def traintestclf(data):\n",
    "    for i in range(len(data)):\n",
    "        trainlist=[]\n",
    "        testlist=[]\n",
    "        if data['month'][i] !='5':\n",
    "            global train_df\n",
    "            trainlist.append(data['bookName'][i])\n",
    "            trainlist.append(data['month'][i])\n",
    "            trainlist.append(data['rank'][i])\n",
    "            trainlist.append(data['montlyUseCnt'][i])\n",
    "            trainlist.append(data['useAgeCnt'][i])\n",
    "            trainlist.append(data['loanCnt'][i])\n",
    "            \n",
    "            train_df = train_df.append(\n",
    "                           pd.Series(trainlist, index=train_df.columns),\n",
    "                           ignore_index=True\n",
    "                           )\n",
    "        else:\n",
    "            global test_df\n",
    "            testlist.append(data['bookName'][i])\n",
    "            testlist.append(data['month'][i])\n",
    "            testlist.append(data['rank'][i])\n",
    "            testlist.append(data['montlyUseCnt'][i])\n",
    "            testlist.append(data['useAgeCnt'][i])\n",
    "            testlist.append(data['loanCnt'][i])\n",
    "            \n",
    "            test_df = test_df.append(\n",
    "                          pd.Series(testlist, index=test_df.columns),\n",
    "                          ignore_index=True\n",
    "                          )"
   ]
  },
  {
   "cell_type": "code",
   "execution_count": 115,
   "metadata": {
    "ExecuteTime": {
     "end_time": "2021-06-26T12:10:33.056627Z",
     "start_time": "2021-06-26T12:10:32.700559Z"
    }
   },
   "outputs": [],
   "source": [
    "traintestclf(tt_loanData_JtoM)"
   ]
  },
  {
   "cell_type": "code",
   "execution_count": 116,
   "metadata": {
    "ExecuteTime": {
     "end_time": "2021-06-26T12:10:39.477635Z",
     "start_time": "2021-06-26T12:10:39.472621Z"
    }
   },
   "outputs": [],
   "source": [
    "X_train = train_df.loc[:,:'useAgeCnt']\n",
    "y_train = train_df['loanCnt']\n",
    "X_test = test_df.loc[:,:'useAgeCnt']\n",
    "y_test = test_df['loanCnt']"
   ]
  },
  {
   "cell_type": "code",
   "execution_count": 117,
   "metadata": {
    "ExecuteTime": {
     "end_time": "2021-06-26T12:10:44.167582Z",
     "start_time": "2021-06-26T12:10:44.152626Z"
    }
   },
   "outputs": [],
   "source": [
    "X_train['rank']=X_train['rank'].astype('int64')\n",
    "X_train['montlyUseCnt']=X_train['montlyUseCnt'].astype('int64')\n",
    "X_train['useAgeCnt']=X_train['useAgeCnt'].astype('int64')\n",
    "X_test['rank']=X_test['rank'].astype('int64')\n",
    "X_test['montlyUseCnt']=X_test['montlyUseCnt'].astype('int64')\n",
    "X_test['useAgeCnt']=X_test['useAgeCnt'].astype('int64')"
   ]
  },
  {
   "cell_type": "code",
   "execution_count": 118,
   "metadata": {
    "ExecuteTime": {
     "end_time": "2021-06-26T12:10:49.684524Z",
     "start_time": "2021-06-26T12:10:49.669564Z"
    }
   },
   "outputs": [],
   "source": [
    "def monthtoseason(data):\n",
    "    if data['month']== '1' or data['month']== '2':\n",
    "        return 'winter'\n",
    "    elif data['month']== '3' or data['month']== '4' or data['month']== '5':\n",
    "        return 'spring'"
   ]
  },
  {
   "cell_type": "code",
   "execution_count": 119,
   "metadata": {
    "ExecuteTime": {
     "end_time": "2021-06-26T12:10:55.223252Z",
     "start_time": "2021-06-26T12:10:55.204303Z"
    }
   },
   "outputs": [],
   "source": [
    "X_train['season']=X_train.apply(monthtoseason, axis=1)"
   ]
  },
  {
   "cell_type": "code",
   "execution_count": 120,
   "metadata": {
    "ExecuteTime": {
     "end_time": "2021-06-26T12:11:00.113951Z",
     "start_time": "2021-06-26T12:11:00.096997Z"
    }
   },
   "outputs": [],
   "source": [
    "del X_train['month']"
   ]
  },
  {
   "cell_type": "code",
   "execution_count": 121,
   "metadata": {
    "ExecuteTime": {
     "end_time": "2021-06-26T12:11:03.893468Z",
     "start_time": "2021-06-26T12:11:03.875489Z"
    }
   },
   "outputs": [],
   "source": [
    "X_test['season']=X_test.apply(monthtoseason, axis=1)"
   ]
  },
  {
   "cell_type": "code",
   "execution_count": 122,
   "metadata": {
    "ExecuteTime": {
     "end_time": "2021-06-26T12:11:09.112175Z",
     "start_time": "2021-06-26T12:11:09.107175Z"
    }
   },
   "outputs": [],
   "source": [
    "del X_test['month']"
   ]
  },
  {
   "cell_type": "code",
   "execution_count": 141,
   "metadata": {
    "ExecuteTime": {
     "end_time": "2021-06-26T12:17:07.637587Z",
     "start_time": "2021-06-26T12:17:07.621657Z"
    }
   },
   "outputs": [],
   "source": [
    "y_train.to_csv('y_train_tt.csv')"
   ]
  },
  {
   "cell_type": "code",
   "execution_count": 142,
   "metadata": {
    "ExecuteTime": {
     "end_time": "2021-06-26T12:17:07.980781Z",
     "start_time": "2021-06-26T12:17:07.970810Z"
    }
   },
   "outputs": [],
   "source": [
    "y_test.to_csv('y_test_tt.csv')"
   ]
  },
  {
   "cell_type": "code",
   "execution_count": 125,
   "metadata": {
    "ExecuteTime": {
     "end_time": "2021-06-26T12:13:20.770851Z",
     "start_time": "2021-06-26T12:13:20.752870Z"
    }
   },
   "outputs": [],
   "source": [
    "X_train_one_hot = pd.get_dummies(X_train)\n",
    "X_test_one_hot = pd.get_dummies(X_test)"
   ]
  },
  {
   "cell_type": "code",
   "execution_count": 126,
   "metadata": {
    "ExecuteTime": {
     "end_time": "2021-06-26T12:13:27.063338Z",
     "start_time": "2021-06-26T12:13:27.053373Z"
    }
   },
   "outputs": [],
   "source": [
    "X_test_one_hot['season_winter']=0"
   ]
  },
  {
   "cell_type": "code",
   "execution_count": 143,
   "metadata": {
    "ExecuteTime": {
     "end_time": "2021-06-26T12:17:12.843803Z",
     "start_time": "2021-06-26T12:17:12.829842Z"
    }
   },
   "outputs": [],
   "source": [
    "X_train_one_hot.to_csv('X_train_tt.csv', encoding='cp949')"
   ]
  },
  {
   "cell_type": "code",
   "execution_count": 144,
   "metadata": {
    "ExecuteTime": {
     "end_time": "2021-06-26T12:17:13.049340Z",
     "start_time": "2021-06-26T12:17:13.040393Z"
    }
   },
   "outputs": [],
   "source": [
    "X_test_one_hot.to_csv('X_test_tt.csv', encoding='cp949')"
   ]
  },
  {
   "cell_type": "code",
   "execution_count": 129,
   "metadata": {
    "ExecuteTime": {
     "end_time": "2021-06-26T12:13:53.233627Z",
     "start_time": "2021-06-26T12:13:52.601948Z"
    }
   },
   "outputs": [],
   "source": [
    "from sklearn.preprocessing import StandardScaler\n",
    "from sklearn.model_selection import cross_val_score\n",
    "from sklearn.model_selection import KFold\n",
    "from sklearn.model_selection import train_test_split\n",
    "from sklearn.model_selection import GridSearchCV"
   ]
  },
  {
   "cell_type": "code",
   "execution_count": 130,
   "metadata": {
    "ExecuteTime": {
     "end_time": "2021-06-26T12:13:57.143441Z",
     "start_time": "2021-06-26T12:13:57.128482Z"
    }
   },
   "outputs": [
    {
     "data": {
      "text/plain": [
       "StandardScaler()"
      ]
     },
     "execution_count": 130,
     "metadata": {},
     "output_type": "execute_result"
    }
   ],
   "source": [
    "scaler = StandardScaler()\n",
    "scaler.fit(X_train_one_hot)"
   ]
  },
  {
   "cell_type": "code",
   "execution_count": 131,
   "metadata": {
    "ExecuteTime": {
     "end_time": "2021-06-26T12:14:04.496977Z",
     "start_time": "2021-06-26T12:14:04.484012Z"
    }
   },
   "outputs": [],
   "source": [
    "X_train = scaler.transform(X_train_one_hot)\n",
    "X_test = scaler.transform(X_test_one_hot)"
   ]
  },
  {
   "cell_type": "code",
   "execution_count": 132,
   "metadata": {
    "ExecuteTime": {
     "end_time": "2021-06-26T12:14:10.981642Z",
     "start_time": "2021-06-26T12:14:10.971668Z"
    }
   },
   "outputs": [],
   "source": [
    "kfold = KFold(n_splits=10, random_state=123, shuffle=True)"
   ]
  },
  {
   "cell_type": "code",
   "execution_count": 135,
   "metadata": {
    "ExecuteTime": {
     "end_time": "2021-06-26T12:14:55.749902Z",
     "start_time": "2021-06-26T12:14:55.618805Z"
    }
   },
   "outputs": [],
   "source": [
    "from xgboost import XGBClassifier"
   ]
  },
  {
   "cell_type": "code",
   "execution_count": 136,
   "metadata": {
    "ExecuteTime": {
     "end_time": "2021-06-26T12:14:56.806355Z",
     "start_time": "2021-06-26T12:14:56.386453Z"
    }
   },
   "outputs": [
    {
     "name": "stderr",
     "output_type": "stream",
     "text": [
      "C:\\Users\\21SMT018\\anaconda3\\lib\\site-packages\\xgboost\\sklearn.py:888: UserWarning: The use of label encoder in XGBClassifier is deprecated and will be removed in a future release. To remove this warning, do the following: 1) Pass option use_label_encoder=False when constructing XGBClassifier object; and 2) Encode your labels (y) as integers starting with 0, i.e. 0, 1, 2, ..., [num_class - 1].\n",
      "  warnings.warn(label_encoder_deprecation_msg, UserWarning)\n"
     ]
    },
    {
     "name": "stdout",
     "output_type": "stream",
     "text": [
      "[21:14:56] WARNING: C:/Users/Administrator/workspace/xgboost-win64_release_1.3.0/src/learner.cc:1061: Starting in XGBoost 1.3.0, the default evaluation metric used with the objective 'multi:softprob' was changed from 'merror' to 'mlogloss'. Explicitly set eval_metric if you'd like to restore the old behavior.\n"
     ]
    },
    {
     "data": {
      "text/plain": [
       "XGBClassifier(base_score=0.5, booster='gbtree', colsample_bylevel=1,\n",
       "              colsample_bynode=1, colsample_bytree=1, gamma=0, gpu_id=-1,\n",
       "              importance_type='gain', interaction_constraints='',\n",
       "              learning_rate=0.01, max_delta_step=0, max_depth=6,\n",
       "              min_child_weight=1, missing=nan, monotone_constraints='()',\n",
       "              n_estimators=100, n_jobs=16, num_parallel_tree=1,\n",
       "              objective='multi:softprob', random_state=123, reg_alpha=0,\n",
       "              reg_lambda=1, scale_pos_weight=None, subsample=1,\n",
       "              tree_method='exact', validate_parameters=1, verbosity=None)"
      ]
     },
     "execution_count": 136,
     "metadata": {},
     "output_type": "execute_result"
    }
   ],
   "source": [
    "xgb_model = XGBClassifier(n_estimators=100, learning_rate=0.01, random_state=123)\n",
    "xgb_model.fit(X_train, y_train)"
   ]
  },
  {
   "cell_type": "code",
   "execution_count": 137,
   "metadata": {
    "ExecuteTime": {
     "end_time": "2021-06-26T12:15:02.533156Z",
     "start_time": "2021-06-26T12:15:02.525177Z"
    }
   },
   "outputs": [],
   "source": [
    "pre_xgb = xgb_model.predict(X_test)"
   ]
  },
  {
   "cell_type": "code",
   "execution_count": 138,
   "metadata": {
    "ExecuteTime": {
     "end_time": "2021-06-26T12:15:06.619499Z",
     "start_time": "2021-06-26T12:15:06.609526Z"
    }
   },
   "outputs": [],
   "source": [
    "from sklearn.metrics import mean_squared_error \n",
    "from sklearn.metrics import r2_score"
   ]
  },
  {
   "cell_type": "code",
   "execution_count": 139,
   "metadata": {
    "ExecuteTime": {
     "end_time": "2021-06-26T12:15:11.261542Z",
     "start_time": "2021-06-26T12:15:11.248578Z"
    }
   },
   "outputs": [],
   "source": [
    "R2R2 = r2_score(\n",
    "    pre_xgb,\n",
    "    y_test,\n",
    ")"
   ]
  },
  {
   "cell_type": "code",
   "execution_count": 140,
   "metadata": {
    "ExecuteTime": {
     "end_time": "2021-06-26T12:15:15.063382Z",
     "start_time": "2021-06-26T12:15:15.054406Z"
    }
   },
   "outputs": [
    {
     "data": {
      "text/plain": [
       "0.9122177674614897"
      ]
     },
     "execution_count": 140,
     "metadata": {},
     "output_type": "execute_result"
    }
   ],
   "source": [
    "R2R2"
   ]
  },
  {
   "cell_type": "code",
   "execution_count": null,
   "metadata": {},
   "outputs": [],
   "source": []
  }
 ],
 "metadata": {
  "kernelspec": {
   "display_name": "Python 3",
   "language": "python",
   "name": "python3"
  },
  "language_info": {
   "codemirror_mode": {
    "name": "ipython",
    "version": 3
   },
   "file_extension": ".py",
   "mimetype": "text/x-python",
   "name": "python",
   "nbconvert_exporter": "python",
   "pygments_lexer": "ipython3",
   "version": "3.8.5"
  },
  "toc": {
   "base_numbering": 1,
   "nav_menu": {},
   "number_sections": true,
   "sideBar": true,
   "skip_h1_title": false,
   "title_cell": "Table of Contents",
   "title_sidebar": "Contents",
   "toc_cell": false,
   "toc_position": {},
   "toc_section_display": true,
   "toc_window_display": false
  }
 },
 "nbformat": 4,
 "nbformat_minor": 4
}
