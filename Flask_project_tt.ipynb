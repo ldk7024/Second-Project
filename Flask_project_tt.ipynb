{
 "cells": [
  {
   "cell_type": "code",
   "execution_count": 34,
   "metadata": {
    "ExecuteTime": {
     "end_time": "2021-06-26T05:16:38.647379Z",
     "start_time": "2021-06-26T05:16:38.630426Z"
    }
   },
   "outputs": [],
   "source": [
    "def model1(data, X_train, X_test, y_train, y_test):\n",
    "    from sklearn.preprocessing import StandardScaler\n",
    "    from sklearn.model_selection import KFold\n",
    "    from xgboost import XGBClassifier\n",
    "    import pandas as pd\n",
    "    ISBNlist = []\n",
    "    \n",
    "    def ISBNextract(data1):\n",
    "        for i in range(len(data1)):\n",
    "            if data1['month'][i] == 5:\n",
    "                ISBNlist.append(data1['ISBN'][i])\n",
    "                    \n",
    "    ISBNextract(data)\n",
    "    \n",
    "    \n",
    "    scaler = StandardScaler()\n",
    "    scaler.fit(X_train)\n",
    "    X_train1 = scaler.transform(X_train)\n",
    "    X_test1 = scaler.transform(X_test)\n",
    "    \n",
    "    kfold = KFold(n_splits=10, random_state=123, shuffle=True)\n",
    "    xgb_model = XGBClassifier(n_estimators=100, learning_rate=0.01, random_state=123)\n",
    "    xgb_model.fit(X_train1, y_train)\n",
    "    \n",
    "    pre_xgb = xgb_model.predict(X_test1)\n",
    "    \n",
    "    result_dic = {'result_pre':pre_xgb, 'ISBN':ISBNlist}\n",
    "    print(result_dic)\n",
    "    result_df = pd.DataFrame(result_dic)\n",
    "    \n",
    "    result_df.sort_values('result_pre', ascending=False, inplace=True)\n",
    "    \n",
    "    returnResult = []\n",
    "    for i in range(10):\n",
    "        returnResult.append(result_df['ISBN'][i])\n",
    "        \n",
    "    return returnResult"
   ]
  },
  {
   "cell_type": "code",
   "execution_count": 38,
   "metadata": {
    "ExecuteTime": {
     "end_time": "2021-06-26T06:27:31.429296Z",
     "start_time": "2021-06-26T06:13:05.572271Z"
    },
    "collapsed": true
   },
   "outputs": [
    {
     "name": "stdout",
     "output_type": "stream",
     "text": [
      " * Serving Flask app \"__main__\" (lazy loading)\n",
      " * Environment: production\n",
      "   WARNING: This is a development server. Do not use it in a production deployment.\n",
      "   Use a production WSGI server instead.\n",
      " * Debug mode: off\n"
     ]
    },
    {
     "name": "stderr",
     "output_type": "stream",
     "text": [
      " * Running on http://127.0.0.1:5001/ (Press CTRL+C to quit)\n",
      "127.0.0.1 - - [26/Jun/2021 15:13:08] \"\u001b[33mGET / HTTP/1.1\u001b[0m\" 404 -\n",
      "C:\\Users\\21SMT018\\anaconda3\\lib\\site-packages\\xgboost\\sklearn.py:888: UserWarning: The use of label encoder in XGBClassifier is deprecated and will be removed in a future release. To remove this warning, do the following: 1) Pass option use_label_encoder=False when constructing XGBClassifier object; and 2) Encode your labels (y) as integers starting with 0, i.e. 0, 1, 2, ..., [num_class - 1].\n",
      "  warnings.warn(label_encoder_deprecation_msg, UserWarning)\n",
      "C:\\Users\\21SMT018\\anaconda3\\lib\\site-packages\\sklearn\\utils\\validation.py:72: DataConversionWarning: A column-vector y was passed when a 1d array was expected. Please change the shape of y to (n_samples, ), for example using ravel().\n",
      "  return f(**kwargs)\n",
      "127.0.0.1 - - [26/Jun/2021 15:13:51] \"\u001b[32mGET /loan_pre HTTP/1.1\u001b[0m\" 302 -\n"
     ]
    },
    {
     "name": "stdout",
     "output_type": "stream",
     "text": [
      "{'result_pre': array([14.,  9., 14., 13.,  9., 10., 14., 16., 17., 14., 17., 19., 13.,\n",
      "       13., 10., 20., 19., 16., 19.,  9., 20., 16., 14., 13.,  9., 15.,\n",
      "       15., 16.,  9., 15., 16.,  9., 20., 15., 19., 19., 19., 17.,  9.,\n",
      "       19.]), 'ISBN': [9788950984144, 9788950985554, 9788950987008, 9788950987756, 9788950979317, 9788950981150, 9791196893118, 9791196893132, 9791196893170, 9791195794799, 9791188874293, 9791196025847, 9791196025861, 9791188874262, 9788936446819, 9791164060498, 9791164060931, 9791164060948, 9791164062065, 9791164062072, 9791164062270, 9788993242706, 9788950983109, 9788937838750, 9788937853470, 9788937889714, 9788937848247, 9791162332542, 9791162335123, 9791162339466, 9791164131914, 9791164134090, 9791164130764, 9791164131686, 9791164132454, 9791164134267, 9791164134847, 9791164135592, 9791164134649, 9791164135158]}\n"
     ]
    },
    {
     "name": "stderr",
     "output_type": "stream",
     "text": [
      "127.0.0.1 - - [26/Jun/2021 15:16:32] \"\u001b[33mGET / HTTP/1.1\u001b[0m\" 404 -\n",
      "C:\\Users\\21SMT018\\anaconda3\\lib\\site-packages\\xgboost\\sklearn.py:888: UserWarning: The use of label encoder in XGBClassifier is deprecated and will be removed in a future release. To remove this warning, do the following: 1) Pass option use_label_encoder=False when constructing XGBClassifier object; and 2) Encode your labels (y) as integers starting with 0, i.e. 0, 1, 2, ..., [num_class - 1].\n",
      "  warnings.warn(label_encoder_deprecation_msg, UserWarning)\n",
      "C:\\Users\\21SMT018\\anaconda3\\lib\\site-packages\\sklearn\\utils\\validation.py:72: DataConversionWarning: A column-vector y was passed when a 1d array was expected. Please change the shape of y to (n_samples, ), for example using ravel().\n",
      "  return f(**kwargs)\n",
      "127.0.0.1 - - [26/Jun/2021 15:16:45] \"\u001b[32mGET /loan_pre HTTP/1.1\u001b[0m\" 302 -\n"
     ]
    },
    {
     "name": "stdout",
     "output_type": "stream",
     "text": [
      "{'result_pre': array([14.,  9., 14., 13.,  9., 10., 14., 16., 17., 14., 17., 19., 13.,\n",
      "       13., 10., 20., 19., 16., 19.,  9., 20., 16., 14., 13.,  9., 15.,\n",
      "       15., 16.,  9., 15., 16.,  9., 20., 15., 19., 19., 19., 17.,  9.,\n",
      "       19.]), 'ISBN': [9788950984144, 9788950985554, 9788950987008, 9788950987756, 9788950979317, 9788950981150, 9791196893118, 9791196893132, 9791196893170, 9791195794799, 9791188874293, 9791196025847, 9791196025861, 9791188874262, 9788936446819, 9791164060498, 9791164060931, 9791164060948, 9791164062065, 9791164062072, 9791164062270, 9788993242706, 9788950983109, 9788937838750, 9788937853470, 9788937889714, 9788937848247, 9791162332542, 9791162335123, 9791162339466, 9791164131914, 9791164134090, 9791164130764, 9791164131686, 9791164132454, 9791164134267, 9791164134847, 9791164135592, 9791164134649, 9791164135158]}\n"
     ]
    }
   ],
   "source": [
    "from flask import Flask\n",
    "from flask import request, redirect\n",
    "import pandas as pd\n",
    "\n",
    "app = Flask(__name__)\n",
    "\n",
    "data = pd.read_csv('gwangju_ov40_bestloan40.csv', index_col='Unnamed: 0', \n",
    "                   encoding='cp949')\n",
    "X_train = pd.read_csv('X_train_ov40.csv', index_col='Unnamed: 0', encoding='cp949')\n",
    "X_test = pd.read_csv('X_test_ov40.csv', index_col='Unnamed: 0', encoding='cp949')\n",
    "y_train = pd.read_csv('y_train_ov40.csv', index_col='Unnamed: 0', encoding='cp949')\n",
    "y_test = pd.read_csv('y_test_ov40.csv', index_col='Unnamed: 0', encoding='cp949')\n",
    "\n",
    "@app.route('/loan_pre', methods=['GET','POST'])\n",
    "def index():     \n",
    "       \n",
    "    if request.method == 'GET':\n",
    "        result = model1(data, X_train, X_test, y_train, y_test)\n",
    "        \n",
    "    else:\n",
    "        result = model1(data, X_train, X_test, y_train, y_test)\n",
    "        \n",
    "\n",
    "    url = 'http://localhost:8083/kkkko_error_04/flaskjsp.jsp?result={}'.format(result)\n",
    "    \n",
    "    return redirect(url)\n",
    "\n",
    "if __name__ == '__main__':\n",
    "    app.run(host='127.0.0.1', port='5001') \n",
    "    "
   ]
  },
  {
   "cell_type": "code",
   "execution_count": null,
   "metadata": {
    "ExecuteTime": {
     "start_time": "2021-06-26T10:08:38.679Z"
    }
   },
   "outputs": [
    {
     "name": "stdout",
     "output_type": "stream",
     "text": [
      " * Serving Flask app \"__main__\" (lazy loading)\n",
      " * Environment: production\n",
      "   WARNING: This is a development server. Do not use it in a production deployment.\n",
      "   Use a production WSGI server instead.\n",
      " * Debug mode: off\n"
     ]
    },
    {
     "name": "stderr",
     "output_type": "stream",
     "text": [
      " * Running on http://127.0.0.1:5000/ (Press CTRL+C to quit)\n",
      "C:\\Users\\21SMT018\\anaconda3\\lib\\site-packages\\xgboost\\sklearn.py:888: UserWarning: The use of label encoder in XGBClassifier is deprecated and will be removed in a future release. To remove this warning, do the following: 1) Pass option use_label_encoder=False when constructing XGBClassifier object; and 2) Encode your labels (y) as integers starting with 0, i.e. 0, 1, 2, ..., [num_class - 1].\n",
      "  warnings.warn(label_encoder_deprecation_msg, UserWarning)\n",
      "C:\\Users\\21SMT018\\anaconda3\\lib\\site-packages\\sklearn\\utils\\validation.py:72: DataConversionWarning: A column-vector y was passed when a 1d array was expected. Please change the shape of y to (n_samples, ), for example using ravel().\n",
      "  return f(**kwargs)\n",
      "127.0.0.1 - - [26/Jun/2021 19:08:41] \"\u001b[32mGET / HTTP/1.1\u001b[0m\" 302 -\n"
     ]
    },
    {
     "name": "stdout",
     "output_type": "stream",
     "text": [
      "{'result_pre': array([14.,  9., 14., 13.,  9., 10., 14., 16., 17., 14., 17., 19., 13.,\n",
      "       13., 10., 20., 19., 16., 19.,  9., 20., 16., 14., 13.,  9., 15.,\n",
      "       15., 16.,  9., 15., 16.,  9., 20., 15., 19., 19., 19., 17.,  9.,\n",
      "       19.]), 'ISBN': [9788950984144, 9788950985554, 9788950987008, 9788950987756, 9788950979317, 9788950981150, 9791196893118, 9791196893132, 9791196893170, 9791195794799, 9791188874293, 9791196025847, 9791196025861, 9791188874262, 9788936446819, 9791164060498, 9791164060931, 9791164060948, 9791164062065, 9791164062072, 9791164062270, 9788993242706, 9788950983109, 9788937838750, 9788937853470, 9788937889714, 9788937848247, 9791162332542, 9791162335123, 9791162339466, 9791164131914, 9791164134090, 9791164130764, 9791164131686, 9791164132454, 9791164134267, 9791164134847, 9791164135592, 9791164134649, 9791164135158]}\n"
     ]
    }
   ],
   "source": [
    "from flask import Flask\n",
    "from flask import redirect\n",
    "\n",
    "app = Flask(__name__)\n",
    "\n",
    "data = pd.read_csv('gwangju_tt_bestloan40.csv', index_col='Unnamed: 0', \n",
    "                   encoding='cp949')\n",
    "X_train = pd.read_csv('X_train_tt.csv', index_col='Unnamed: 0', encoding='cp949')\n",
    "X_test = pd.read_csv('X_test_tt.csv', index_col='Unnamed: 0', encoding='cp949')\n",
    "y_train = pd.read_csv('y_train_tt.csv', index_col='Unnamed: 0', encoding='cp949')\n",
    "y_test = pd.read_csv('y_test_tt.csv', index_col='Unnamed: 0', encoding='cp949')\n",
    "\n",
    "@app.route('/')\n",
    "def index():     \n",
    "    # JSP로 만들어진 웹 페이지에 데이터 전송\n",
    "    # GET방식으로 데이터 전달 시 쿼리스트링 기술 활용\n",
    "    #  -> ?name=value&name=value&...\n",
    "    result = model1(data, X_train, X_test, y_train, y_test)\n",
    "    url = 'http://localhost:8083/kkkko_error_04/flaskjsp.jsp?result1={}&result2={}&result3={}&result4={}&result5={}&result6={}&result7={}&result8={}&result9={}&result10={}'.format(result[0],result[1],result[2],result[3],result[4],result[5],result[6],result[7],result[8],result[9])\n",
    "\n",
    "    return redirect(url)\n",
    "\n",
    "if __name__ == '__main__':\n",
    "    app.run(host='127.0.0.1', port='5000') "
   ]
  },
  {
   "cell_type": "code",
   "execution_count": null,
   "metadata": {},
   "outputs": [],
   "source": []
  }
 ],
 "metadata": {
  "kernelspec": {
   "display_name": "Python 3",
   "language": "python",
   "name": "python3"
  },
  "language_info": {
   "codemirror_mode": {
    "name": "ipython",
    "version": 3
   },
   "file_extension": ".py",
   "mimetype": "text/x-python",
   "name": "python",
   "nbconvert_exporter": "python",
   "pygments_lexer": "ipython3",
   "version": "3.8.5"
  },
  "toc": {
   "base_numbering": 1,
   "nav_menu": {},
   "number_sections": true,
   "sideBar": true,
   "skip_h1_title": false,
   "title_cell": "Table of Contents",
   "title_sidebar": "Contents",
   "toc_cell": false,
   "toc_position": {},
   "toc_section_display": true,
   "toc_window_display": false
  }
 },
 "nbformat": 4,
 "nbformat_minor": 4
}
