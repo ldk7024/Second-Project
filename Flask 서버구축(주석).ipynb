{
 "cells": [
  {
   "cell_type": "markdown",
   "metadata": {},
   "source": [
    "# Flask란?\n",
    " - python을 활용한 웹 프레임워크로 단순한 코드로 쉽게 개발이 가능\n",
    " - Flask 설치"
   ]
  },
  {
   "cell_type": "code",
   "execution_count": null,
   "metadata": {},
   "outputs": [],
   "source": [
    "!pip install flask"
   ]
  },
  {
   "cell_type": "markdown",
   "metadata": {},
   "source": [
    "# Flask 구조"
   ]
  },
  {
   "cell_type": "code",
   "execution_count": 2,
   "metadata": {},
   "outputs": [
    {
     "name": "stdout",
     "output_type": "stream",
     "text": [
      " * Serving Flask app \"__main__\" (lazy loading)\n",
      " * Environment: production\n",
      "   WARNING: This is a development server. Do not use it in a production deployment.\n",
      "   Use a production WSGI server instead.\n",
      " * Debug mode: off\n"
     ]
    },
    {
     "name": "stderr",
     "output_type": "stream",
     "text": [
      " * Running on http://127.0.0.1:5000/ (Press CTRL+C to quit)\n",
      "127.0.0.1 - - [22/Jun/2021 15:59:04] \"\u001b[37mGET / HTTP/1.1\u001b[0m\" 200 -\n"
     ]
    }
   ],
   "source": [
    "from flask import Flask\n",
    "\n",
    "app = Flask(__name__) # flask 서버객체 생성\n",
    " \n",
    "    \n",
    "# route(경로): 외부에서 접근할 때 페이지 구분을 위한 경로지정\n",
    "@app.route('/')   # 5000 port 뒤에 / 를 사용하여 경로설정(설정된 경로의 페이지에 함수가 적용됨)\n",
    "def index():\n",
    "    return 'Hello World!' # return을 하게 될 경우 사용자에게 전달\n",
    "\n",
    "\n",
    "# main함수의 시작을 의미\n",
    "# 비유하자면 자바의 main(String[] args)메소드와 같은 역할\n",
    "if __name__ == '__main__':\n",
    "    # 웹서버주소(host)(=IP주소)와 포트번호(port)(고정값)를 지정하여 웹 서버 실행\n",
    "    app.run(host='127.0.0.1', port='5000') "
   ]
  },
  {
   "cell_type": "markdown",
   "metadata": {},
   "source": [
    "# 딕셔너리 데이터 사용자에게 보내기\n",
    "- json형태로 데이터를 전달하기 위해 jsonify모듈 추가"
   ]
  },
  {
   "cell_type": "code",
   "execution_count": null,
   "metadata": {},
   "outputs": [],
   "source": [
    "from flask import Flask, jsonify\n",
    "\n",
    "app = Flask(__name__)\n",
    "\n",
    "@app.route('/')\n",
    "def index():\n",
    "    data = {'name' : 'Aaron', 'family' : 'Byun'}\n",
    "    return jsonify(data)\n",
    "\n",
    "if __name__ == '__main__':\n",
    "    app.run(host='127.0.0.1', port='5000') "
   ]
  },
  {
   "cell_type": "markdown",
   "metadata": {},
   "source": [
    "- 결과값을 웹에 뿌려주기만 함(비동기 통신)\n",
    "- 웹에서 버튼을 눌러 현재 페이지에 결과를 표기해주고 싶을 때 사용"
   ]
  },
  {
   "cell_type": "markdown",
   "metadata": {},
   "source": [
    "# 요청방식 구분\n",
    "- 요청방식에는 크게 GET, POST로 구분\n",
    "- GET방식은 URL을 통해 값을 전달하는 방식\n",
    "- POST방식은 HTTP body에 담겨 값을 전달하는 방식\n",
    "- 요청방식을 구분하기 위해 request모듈 추가"
   ]
  },
  {
   "cell_type": "code",
   "execution_count": 2,
   "metadata": {},
   "outputs": [
    {
     "name": "stdout",
     "output_type": "stream",
     "text": [
      " * Serving Flask app \"__main__\" (lazy loading)\n",
      " * Environment: production\n",
      "   WARNING: This is a development server. Do not use it in a production deployment.\n",
      "   Use a production WSGI server instead.\n",
      " * Debug mode: off\n"
     ]
    },
    {
     "name": "stderr",
     "output_type": "stream",
     "text": [
      " * Running on http://127.0.0.1:5000/ (Press CTRL+C to quit)\n",
      "127.0.0.1 - - [23/Jun/2021 08:46:38] \"\u001b[37mGET / HTTP/1.1\u001b[0m\" 200 -\n",
      "127.0.0.1 - - [23/Jun/2021 08:46:42] \"\u001b[37mGET /test?data=ㅇㅇ HTTP/1.1\u001b[0m\" 200 -\n"
     ]
    },
    {
     "name": "stdout",
     "output_type": "stream",
     "text": [
      "ㅇㅇ\n"
     ]
    }
   ],
   "source": [
    "from flask import Flask\n",
    "from flask import request\n",
    "from flask import redirect\n",
    "\n",
    "app = Flask(__name__)\n",
    " \n",
    "# 1. 코드 실행 후 첫 페이지\n",
    "# action= : 경로 설정(Flask로 보낼 때의 경로)\n",
    "# method= : GET, POST 설정\n",
    "@app.route('/')\n",
    "def index():\n",
    "    # html은 일반적으로 파이썬에서 작성하지 않고 이클립스에서 작성함!(아래코드는 예시로 작성한 것)\n",
    "    html = '''\n",
    "        <html>\n",
    "            <title>Flask를 활용한 웹 페이지 실행</title>\n",
    "            <body>\n",
    "                <h1>데이터 전송</h1>\n",
    "                \n",
    "                <!-- <form action=\"test\" method=\"GET\"> -->\n",
    "                <form action=\"test\" method=\"GET\">\n",
    "                    <input type=\"text\" name=\"data\">\n",
    "                    <input type=\"submit\" value=\"전송\">\n",
    "                </form>\n",
    "                \n",
    "                \n",
    "            </body>\n",
    "        </html>\n",
    "    '''\n",
    "    return html\n",
    "\n",
    "# 2. 전송 버튼 클릭 후의 페이지\n",
    "@app.route('/test', methods=['GET','POST'])\n",
    "def getData():\n",
    "    \n",
    "    if request.method == 'GET':\n",
    "        data = request.args['data']   # ['data']는 type=\"text\" name=\"data\" 에서 name에 정의된 값\n",
    "        print(data)\n",
    "        return data\n",
    "    \n",
    "    else:\n",
    "        data = request.form['data']\n",
    "        return data       \n",
    "\n",
    "# @app.route('/test1')\n",
    "# def gonaver():\n",
    "     \n",
    "#     url = 'https://www.naver.com'\n",
    "#     print(url)\n",
    "#     return redirect(url)\n",
    "    \n",
    "\n",
    "if __name__ == '__main__':\n",
    "    app.run(host='127.0.0.1', port='5000') "
   ]
  },
  {
   "cell_type": "code",
   "execution_count": null,
   "metadata": {},
   "outputs": [],
   "source": [
    "#               <form action=\"test1\" method=\"GET\">\n",
    "#                     <input type=\"submit\" value=\"네이버로\">\n",
    "#                 </form>"
   ]
  },
  {
   "cell_type": "markdown",
   "metadata": {},
   "source": [
    "# 다른 웹 페이지로 이동\n",
    "- 이동기능을 사용하기 위해 redirect모듈 추가"
   ]
  },
  {
   "cell_type": "code",
   "execution_count": null,
   "metadata": {},
   "outputs": [],
   "source": [
    "from flask import Flask\n",
    "from flask import redirect\n",
    "\n",
    "app = Flask(__name__) \n",
    " \n",
    "@app.route('/')\n",
    "def index():\n",
    "     \n",
    "    url = 'https://www.naver.com'\n",
    "    return redirect(url)\n",
    "\n",
    "if __name__ == '__main__':\n",
    "    app.run(host='127.0.0.1', port='5000') "
   ]
  },
  {
   "cell_type": "markdown",
   "metadata": {},
   "source": [
    "# Tomcat서버로 데이터 전송\n",
    "- JSP는 값을 출력만\n",
    "- Servlet은 값을 DB에 저장 가능"
   ]
  },
  {
   "cell_type": "markdown",
   "metadata": {},
   "source": [
    "## 1. JSP로 만들어진 웹 페이지로 전송 "
   ]
  },
  {
   "cell_type": "code",
   "execution_count": null,
   "metadata": {},
   "outputs": [],
   "source": [
    "from flask import Flask\n",
    "from flask import redirect\n",
    "\n",
    "app = Flask(__name__) \n",
    "\n",
    "@app.route('/')\n",
    "def index():     \n",
    "    # JSP로 만들어진 웹 페이지에 데이터 전송\n",
    "    # GET방식으로 데이터 전달 시 쿼리스트링 기술 활용\n",
    "    #  -> ?name=value&name=value&...\n",
    "    url = 'http://localhost:8095/MyProject/flask_receive_data.jsp?data=1234'\n",
    "    return redirect(url)\n",
    "\n",
    "if __name__ == '__main__':\n",
    "    app.run(host='127.0.0.1', port='5000') "
   ]
  },
  {
   "cell_type": "markdown",
   "metadata": {},
   "source": [
    "## 2. URL Mapping되어 있는 Servlet으로 데이터 전송"
   ]
  },
  {
   "cell_type": "code",
   "execution_count": null,
   "metadata": {},
   "outputs": [],
   "source": [
    "from flask import Flask\n",
    "from flask import redirect\n",
    "\n",
    "app = Flask(__name__)\n",
    "\n",
    "@app.route('/')\n",
    "def index():     \n",
    "    # JSP로 만들어진 웹 페이지에 데이터 전송\n",
    "    # GET방식으로 데이터 전달 시 쿼리스트링 기술 활용\n",
    "    #  -> ?name=value&name=value&...\n",
    "    url = 'http://localhost:8095/MyProject/FlaskReceiveController?data=1234'\n",
    "    return redirect(url)\n",
    "\n",
    "if __name__ == '__main__':\n",
    "    app.run(host='127.0.0.1', port='5000') "
   ]
  },
  {
   "cell_type": "markdown",
   "metadata": {},
   "source": [
    "# 사용자가 입력한 값을 받은 후 처리된 결과를 Tomcat서버로 전송\n",
    "## ★★머신러닝 모델에 대한 결과값을 전송할 때 활용할 수 있음\n",
    "- 작성한 머신러닝 모델 코드를 함수 형태로 만들어 두고 Flask 코드에서 조건문 안에 결과값만 변수에 넣어줄 것!"
   ]
  },
  {
   "cell_type": "code",
   "execution_count": null,
   "metadata": {},
   "outputs": [],
   "source": [
    "# def model():\n",
    "#     return '모델결과값'"
   ]
  },
  {
   "cell_type": "code",
   "execution_count": 5,
   "metadata": {},
   "outputs": [
    {
     "name": "stdout",
     "output_type": "stream",
     "text": [
      " * Serving Flask app \"__main__\" (lazy loading)\n",
      " * Environment: production\n",
      "   WARNING: This is a development server. Do not use it in a production deployment.\n",
      "   Use a production WSGI server instead.\n",
      " * Debug mode: off\n"
     ]
    },
    {
     "name": "stderr",
     "output_type": "stream",
     "text": [
      " * Running on http://127.0.0.1:5000/ (Press CTRL+C to quit)\n",
      "127.0.0.1 - - [23/Jun/2021 08:58:40] \"\u001b[33mGET / HTTP/1.1\u001b[0m\" 404 -\n",
      "127.0.0.1 - - [23/Jun/2021 08:58:53] \"\u001b[33mGET /?num1=1&num2=2 HTTP/1.1\u001b[0m\" 404 -\n",
      "127.0.0.1 - - [23/Jun/2021 08:59:11] \"\u001b[32mGET /addNumber?num1=1&num2=2 HTTP/1.1\u001b[0m\" 302 -\n",
      "127.0.0.1 - - [23/Jun/2021 08:59:32] \"\u001b[32mGET /addNumber?num1=1&num2=2 HTTP/1.1\u001b[0m\" 302 -\n"
     ]
    }
   ],
   "source": [
    "from flask import Flask\n",
    "from flask import request, redirect\n",
    "\n",
    "app = Flask(__name__) \n",
    "\n",
    "@app.route('/addNumber', methods=['GET','POST'])\n",
    "def index():     \n",
    "       \n",
    "    if request.method == 'GET':\n",
    "        num1 = int(request.args['num1'])\n",
    "        num2 = int(request.args['num2'])\n",
    "        \n",
    "        # result = model()\n",
    "        \n",
    "    else:\n",
    "        num1 = int(request.form['num1'])\n",
    "        num2 = int(request.form['num2'])\n",
    "        \n",
    "        # result = model()\n",
    "\n",
    "    url = 'http://localhost:8095/MyProject/FlaskReceiveController2?result={}'.format(num1+num2)\n",
    "    return redirect(url)\n",
    "\n",
    "if __name__ == '__main__':\n",
    "    app.run(host='127.0.0.1', port='5000') "
   ]
  },
  {
   "cell_type": "code",
   "execution_count": null,
   "metadata": {},
   "outputs": [],
   "source": [
    "# /addNumber?num1=1&num2=2"
   ]
  },
  {
   "cell_type": "code",
   "execution_count": null,
   "metadata": {},
   "outputs": [],
   "source": []
  },
  {
   "cell_type": "code",
   "execution_count": null,
   "metadata": {},
   "outputs": [],
   "source": []
  },
  {
   "cell_type": "code",
   "execution_count": null,
   "metadata": {},
   "outputs": [],
   "source": []
  },
  {
   "cell_type": "code",
   "execution_count": null,
   "metadata": {},
   "outputs": [],
   "source": []
  }
 ],
 "metadata": {
  "kernelspec": {
   "display_name": "Python 3",
   "language": "python",
   "name": "python3"
  },
  "language_info": {
   "codemirror_mode": {
    "name": "ipython",
    "version": 3
   },
   "file_extension": ".py",
   "mimetype": "text/x-python",
   "name": "python",
   "nbconvert_exporter": "python",
   "pygments_lexer": "ipython3",
   "version": "3.8.5"
  },
  "toc": {
   "base_numbering": 1,
   "nav_menu": {},
   "number_sections": true,
   "sideBar": true,
   "skip_h1_title": false,
   "title_cell": "Table of Contents",
   "title_sidebar": "Contents",
   "toc_cell": false,
   "toc_position": {},
   "toc_section_display": true,
   "toc_window_display": false
  }
 },
 "nbformat": 4,
 "nbformat_minor": 2
}
